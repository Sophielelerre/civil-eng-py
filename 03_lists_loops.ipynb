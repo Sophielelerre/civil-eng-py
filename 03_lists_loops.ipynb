{
  "cells": [
    {
      "metadata": {},
      "cell_type": "markdown",
      "source": "# Lists, Iteration and Loops"
    },
    {
      "metadata": {},
      "cell_type": "markdown",
      "source": "## Slicing Sections out of Strings\n\nCharacters in a string can be identified from their position using their <span>*index*</span>.  \n\n\n* Numbering in Python starts from zero. \n\n* This can be thought of as numbering the positions <span>*between*</span> the letters:\n```\n| W | o | r | d | ! |\n0   1   2   3   4   5\n```\n\n\nWe can obtain more than one letter by <span>*slicing*</span> it using a\nrange of indices: `string[index1:index2]`, where the slice is all\nletters <span>*between*</span> the two indices (see diagram above)."
    },
    {
      "metadata": {
        "trusted": true
      },
      "cell_type": "code",
      "source": "a = \"Word!\"\n\nprint(a[0:4])",
      "execution_count": 1,
      "outputs": [
        {
          "output_type": "stream",
          "text": "Word\n",
          "name": "stdout"
        }
      ]
    },
    {
      "metadata": {},
      "cell_type": "markdown",
      "source": "* **empty indices**:  If we leave either of the two positions (`index1` or `index2`) blank:  \n`[:]` means \"from the start to the end\"  \n`[1:]` means \"from position 1 to the end\"  \n`[:3]` means \"from the start to position 3\" "
    },
    {
      "metadata": {},
      "cell_type": "markdown",
      "source": "* **Use index *slicing* to cut out the sections of the string indicated in the comments:** "
    },
    {
      "metadata": {
        "trusted": true
      },
      "cell_type": "code",
      "source": "a = \"Word!\"\n\n# W\nprint(a[?:?])",
      "execution_count": 2,
      "outputs": [
        {
          "output_type": "error",
          "ename": "SyntaxError",
          "evalue": "invalid syntax (<ipython-input-2-c3c90b27fd36>, line 4)",
          "traceback": [
            "\u001b[0;36m  File \u001b[0;32m\"<ipython-input-2-c3c90b27fd36>\"\u001b[0;36m, line \u001b[0;32m4\u001b[0m\n\u001b[0;31m    print(a[?:?])\u001b[0m\n\u001b[0m            ^\u001b[0m\n\u001b[0;31mSyntaxError\u001b[0m\u001b[0;31m:\u001b[0m invalid syntax\n"
          ]
        }
      ]
    },
    {
      "metadata": {
        "trusted": true
      },
      "cell_type": "code",
      "source": "# Wor\nprint(a[?])",
      "execution_count": 3,
      "outputs": [
        {
          "output_type": "error",
          "ename": "SyntaxError",
          "evalue": "invalid syntax (<ipython-input-3-0933c0c7ea4e>, line 2)",
          "traceback": [
            "\u001b[0;36m  File \u001b[0;32m\"<ipython-input-3-0933c0c7ea4e>\"\u001b[0;36m, line \u001b[0;32m2\u001b[0m\n\u001b[0;31m    print(a[?])\u001b[0m\n\u001b[0m            ^\u001b[0m\n\u001b[0;31mSyntaxError\u001b[0m\u001b[0;31m:\u001b[0m invalid syntax\n"
          ]
        }
      ]
    },
    {
      "metadata": {
        "trusted": true
      },
      "cell_type": "code",
      "source": "# d!\nprint(?)",
      "execution_count": null,
      "outputs": []
    },
    {
      "metadata": {},
      "cell_type": "markdown",
      "source": "Now study the example below:"
    },
    {
      "metadata": {
        "trusted": true
      },
      "cell_type": "code",
      "source": "print(a[:3]+a[3:])",
      "execution_count": null,
      "outputs": []
    },
    {
      "metadata": {},
      "cell_type": "markdown",
      "source": "### Accessing a character in a string using its *Index* \n\nAccessing a single character in a string can be simplified using just first the index (i.e. *before* the letter).  \n\nThis is done using the string name with the index number in square brackets `string[index]`.  "
    },
    {
      "metadata": {
        "trusted": true
      },
      "cell_type": "code",
      "source": "a = \"Word!\"\nprint(a[0])",
      "execution_count": 4,
      "outputs": [
        {
          "output_type": "stream",
          "text": "W\n",
          "name": "stdout"
        }
      ]
    },
    {
      "metadata": {},
      "cell_type": "markdown",
      "source": "* **Now do the same using the indices `1,2,3,4,5` in turn**:\n    - re-run the same cell each time with a different index:"
    },
    {
      "metadata": {
        "trusted": true
      },
      "cell_type": "code",
      "source": "print(a[?])",
      "execution_count": null,
      "outputs": []
    },
    {
      "metadata": {},
      "cell_type": "markdown",
      "source": "* Note that we cannot access *indices* beyond the length of the character string held by the variable `a`, trying this produces an error.\n\n### Negative Indexing\n\nNegative numbers can be used to start from the end of the string and work backwards:\n```\n | B | a | c | k | w | a | r | d | s |\n-9  -8  -7  -6  -5  -4  -3  -2  -1\n```"
    },
    {
      "metadata": {
        "trusted": true
      },
      "cell_type": "code",
      "source": "b = \"Backwards\"\nprint(b[-5:-1])",
      "execution_count": null,
      "outputs": []
    },
    {
      "metadata": {
        "trusted": true
      },
      "cell_type": "code",
      "source": "# Slice the word Back using negative indexing\nprint(b[:-5])",
      "execution_count": null,
      "outputs": []
    },
    {
      "metadata": {
        "trusted": true
      },
      "cell_type": "code",
      "source": "# Slice the word wards using negative indexing\nprint(b[-5:])",
      "execution_count": null,
      "outputs": []
    },
    {
      "metadata": {
        "trusted": true
      },
      "cell_type": "code",
      "source": "# make note of this exampple and later think of how to automate it using loops...\nprint(b[-1] + b[-2] + b[-3] + b[-4] + b[-5] + b[-6] + b[-7] + b[-8] + b[-9])",
      "execution_count": null,
      "outputs": []
    },
    {
      "metadata": {},
      "cell_type": "markdown",
      "source": "## Lists \n\n\nA `list` is a data type consisting of multiple elements. \n\nLists are defined by enclosing them in square brackets.  \nThe elements in a list can be of any type in Python,\nincluding text strings or numbers."
    },
    {
      "metadata": {
        "trusted": true
      },
      "cell_type": "code",
      "source": "v = [1, 2, 1.5, \"Hello\"]\nprint(v)",
      "execution_count": null,
      "outputs": []
    },
    {
      "metadata": {},
      "cell_type": "markdown",
      "source": "### Accessing an item in a list using its *Index*\n\nThe elements from a list can also be selected using their *index* in\nsquare brackets following the list's name, just like with strings:"
    },
    {
      "metadata": {
        "trusted": true
      },
      "cell_type": "code",
      "source": "import math\n\nv1 = [1, 2.5, \"Hello\", \"goodbye\", math.pi]",
      "execution_count": null,
      "outputs": []
    },
    {
      "metadata": {
        "trusted": true
      },
      "cell_type": "code",
      "source": "# access the first element\nprint(v1[0])",
      "execution_count": null,
      "outputs": []
    },
    {
      "metadata": {
        "trusted": true
      },
      "cell_type": "code",
      "source": "# slice from between the second and fourth \"fence-post\" (third and fourth elements)\nprint(v1[2:4])",
      "execution_count": null,
      "outputs": []
    },
    {
      "metadata": {
        "trusted": true
      },
      "cell_type": "code",
      "source": "# print the last element\nprint(v1[-1])",
      "execution_count": null,
      "outputs": []
    },
    {
      "metadata": {},
      "cell_type": "markdown",
      "source": "### Slicing Lists\n\nWe can also *slice* lists to take more than one value at a time."
    },
    {
      "metadata": {
        "trusted": true
      },
      "cell_type": "code",
      "source": "pilist = [3, \".\", 1, 4, 1, 5, 9, 2, 6, 5, 3, 5, 9]\n\nprint(pilist[0:7])",
      "execution_count": null,
      "outputs": []
    },
    {
      "metadata": {},
      "cell_type": "markdown",
      "source": "### Joining Lists\n\nConcatenating (joining) lists can be done using the `+` symbol, which\ndoes not add the lists in a numerical sense. "
    },
    {
      "metadata": {
        "trusted": true
      },
      "cell_type": "code",
      "source": "a = [1, 2, 3, 4, 5]\nb = [6, 7, 8, 9, 10]\nc = a+b\n\nprint(c)",
      "execution_count": null,
      "outputs": []
    },
    {
      "metadata": {},
      "cell_type": "markdown",
      "source": "### Nested Lists\n\nLists can also contain lists. These are known as *nested lists* and are\ndemonstrated below:"
    },
    {
      "metadata": {
        "trusted": true
      },
      "cell_type": "code",
      "source": "lst1 = [\"a\", \"b\", \"c\", \"d\", \"e\", \"f\", \"g\", \"h\", \"i\", \"j\"]\nlst2 = [[1, 2, 3], lst1, \"Hello\"]\n\nprint(lst2)",
      "execution_count": 1,
      "outputs": [
        {
          "output_type": "stream",
          "text": "[[1, 2, 3], ['a', 'b', 'c', 'd', 'e', 'f', 'g', 'h', 'i', 'j'], 'Hello']\n",
          "name": "stdout"
        }
      ]
    },
    {
      "metadata": {
        "trusted": true
      },
      "cell_type": "code",
      "source": "ls1 = [1, 2, 3]\nls2 = [4, 5, 6]\nls3 = [7, 8, 9]\nlst = [ls1, ls2, ls3]\n\nprint(lst)",
      "execution_count": 2,
      "outputs": [
        {
          "output_type": "stream",
          "text": "[[1, 2, 3], [4, 5, 6], [7, 8, 9]]\n",
          "name": "stdout"
        }
      ]
    },
    {
      "metadata": {},
      "cell_type": "markdown",
      "source": "### Changing Values in a List \n\nAny entry in a list can be changed using its index or slice:"
    },
    {
      "metadata": {
        "trusted": true
      },
      "cell_type": "code",
      "source": "lst1 = [\"a\", \"b\", \"c\", \"d\", \"e\", \"f\", \"g\", \"h\", \"i\", \"j\"]\n\n# replacing a single element print lst1\nlst1[0] = \"A\"\nprint(lst1)",
      "execution_count": null,
      "outputs": []
    },
    {
      "metadata": {
        "trusted": true
      },
      "cell_type": "code",
      "source": "# replacing slice [\"d\",\"e\",\"f\",\"g\"] with [3,4,5]\nlst1[3:7] = [3, 4, 5]\nprint(lst1)",
      "execution_count": null,
      "outputs": []
    },
    {
      "metadata": {},
      "cell_type": "markdown",
      "source": "* replace element \"b\" with the list [7,8,9]"
    },
    {
      "metadata": {
        "trusted": true
      },
      "cell_type": "code",
      "source": "lst1[?] = ?\nprint(lst1)",
      "execution_count": null,
      "outputs": []
    },
    {
      "metadata": {},
      "cell_type": "markdown",
      "source": "Expected Result: `['A', [7, 8, 9], 'c', 3, 4, 5, 'h', 'i', 'j']`"
    },
    {
      "metadata": {},
      "cell_type": "markdown",
      "source": "Notice the different behaviour when replacing a slice or a single\nelement with a list:\n\n-   a slice is replaced with elements from the inserted list in place of\n    the original slice\n\n-   a single entry has the list inserted *with the list* as the\n    *element* entry.\n\nNotice also that the length of the list changes as we replace a 4\nelement slice with a three slice. Also when counting list entries, the\nentries in sub-lists do not get counted, just the sub-list itself as a\nwhole object."
    },
    {
      "metadata": {},
      "cell_type": "markdown",
      "source": "### Accessing Sub-items of Lists\n\nLook at the following example and see if you can figure out what's going\non (explanation beneath):"
    },
    {
      "metadata": {
        "trusted": true
      },
      "cell_type": "code",
      "source": "lst1 = [1, 1.5, \"hello\", [1, 2, 3, 4]]\n\na = lst1[3]\nprint(a)\nprint(a[1])\n\nprint(lst1[2][1])\nprint(lst1[3][2:4])",
      "execution_count": 3,
      "outputs": [
        {
          "output_type": "stream",
          "text": "[1, 2, 3, 4]\n2\ne\n[3, 4]\n",
          "name": "stdout"
        }
      ]
    },
    {
      "metadata": {},
      "cell_type": "markdown",
      "source": "The basic idea is that the first set of square brackets says\nwhich part of the main list we want.  \n\nIf this item itself has more than one element we can access these elements  \nusing another set of square\nbrackets:  `listname[item][subitem][subsubitem]` etc. \n\nThe first example\nabove shows this more clearly by firstly extracting item `lst1[3]` of\nthe main list and then taking element 1 from this. The next example\nshows this on a numerical list."
    },
    {
      "metadata": {
        "trusted": true
      },
      "cell_type": "code",
      "source": "lst = [[1, 2, 3], [4, 5, 6], [7, 8, 9]]\n\nprint(lst[1])\nprint(lst[1][0])\n\na = lst[1][2]\nb = lst[2][0]\n\nprint(a*b)",
      "execution_count": 1,
      "outputs": [
        {
          "output_type": "stream",
          "text": "[4, 5, 6]\n4\n42\n",
          "name": "stdout"
        }
      ]
    },
    {
      "metadata": {},
      "cell_type": "markdown",
      "source": "### Summary"
    },
    {
      "metadata": {
        "trusted": true
      },
      "cell_type": "code",
      "source": "# a comment is ignored\n\nsomething = \"A string of characters\"  # giving a text string a variable name\n# slicing: remember it goes up to one less than the last index\nprint(something[2:8])\n\n# accessing using an index number: remember indexing starts at zero\nprint(something[3])\n\na_list = [\"anything in\", 2, \"square\", \"brackets\", [1, 2, 3]]\n\nprint(a_list[1] * a_list[4][2])  # accessing lists and sub-lists",
      "execution_count": 5,
      "outputs": [
        {
          "output_type": "stream",
          "text": "string\nt\n6\n",
          "name": "stdout"
        }
      ]
    },
    {
      "metadata": {},
      "cell_type": "markdown",
      "source": "## Generating New Lists\n\n### Using inbuilt functions\n\nThe function `list()` makes a list out of the elements of an object, and `range()` creates a range of numbers for it to list:"
    },
    {
      "metadata": {
        "trusted": true
      },
      "cell_type": "code",
      "source": "# create a list with 10 elements\nlist(range(10))",
      "execution_count": 13,
      "outputs": [
        {
          "output_type": "execute_result",
          "execution_count": 13,
          "data": {
            "text/plain": "[0, 1, 2, 3, 4, 5, 6, 7, 8, 9]"
          },
          "metadata": {}
        }
      ]
    },
    {
      "metadata": {
        "trusted": true
      },
      "cell_type": "code",
      "source": "# Numbers don't have to start at zero:\nlist(range(5,10))",
      "execution_count": 7,
      "outputs": [
        {
          "output_type": "execute_result",
          "execution_count": 7,
          "data": {
            "text/plain": "[5, 6, 7, 8, 9]"
          },
          "metadata": {}
        }
      ]
    },
    {
      "metadata": {
        "trusted": true
      },
      "cell_type": "code",
      "source": "# a third parameter controls the step size (integers only)\nlist(range(1,10,2))",
      "execution_count": 8,
      "outputs": [
        {
          "output_type": "execute_result",
          "execution_count": 8,
          "data": {
            "text/plain": "[1, 3, 5, 7, 9]"
          },
          "metadata": {}
        }
      ]
    },
    {
      "metadata": {},
      "cell_type": "markdown",
      "source": "* Make a list from 3 to 9 in steps of 3 "
    },
    {
      "metadata": {
        "trusted": true
      },
      "cell_type": "code",
      "source": "a = list(range(3,10,3))\n\nprint(a)",
      "execution_count": 10,
      "outputs": [
        {
          "output_type": "stream",
          "text": "[3, 6, 9]\n",
          "name": "stdout"
        }
      ]
    },
    {
      "metadata": {},
      "cell_type": "markdown",
      "source": "Result: `[3, 6, 9]`"
    },
    {
      "metadata": {},
      "cell_type": "markdown",
      "source": "### Using *\"List Comprehension\"*\n\nNew lists can be generated by manipulating each of the items in an existing list.  \n\n* For example \"print a list of $x^2$ values for all $x$ values **in** the list `[1, 2, 3]`\".  "
    },
    {
      "metadata": {
        "ExecuteTime": {
          "end_time": "2019-02-01T21:27:23.982333Z",
          "start_time": "2019-02-01T21:27:23.976343Z"
        },
        "trusted": true
      },
      "cell_type": "code",
      "source": "x1 = [1, 2, 3, 4, 5]\n\nx2 = [x**2 for x in x1]\nprint(x2)",
      "execution_count": 11,
      "outputs": [
        {
          "output_type": "stream",
          "text": "[1, 4, 9, 16, 25]\n",
          "name": "stdout"
        }
      ]
    },
    {
      "metadata": {},
      "cell_type": "markdown",
      "source": "This method is known as *\"list comprehension\"*.\n\nThis also works for non-numerical lists:"
    },
    {
      "metadata": {
        "ExecuteTime": {
          "end_time": "2019-02-01T21:27:25.117056Z",
          "start_time": "2019-02-01T21:27:25.112057Z"
        },
        "trusted": true
      },
      "cell_type": "code",
      "source": "# apply the function len(a) for every word `a` in the list [...]\nword_lengths = [len(a) for a in [\"spam\", \"egg\", \"cheese\"]]\n\nprint(\"The words in the list are:\", word_lengths, \"letters long.\")",
      "execution_count": 12,
      "outputs": [
        {
          "output_type": "stream",
          "text": "The words in the list are: [4, 3, 6] letters long.\n",
          "name": "stdout"
        }
      ]
    },
    {
      "metadata": {},
      "cell_type": "markdown",
      "source": "And for strings:"
    },
    {
      "metadata": {
        "trusted": true
      },
      "cell_type": "code",
      "source": "mystring = \"Hello World!\"\n\n# reeate a new list with elemets that are the string \"The next...\" plus each character c in the given list\nnewlist = [\"The next character is \"+c for c in mystring]\n\nprint(newlist)",
      "execution_count": 13,
      "outputs": [
        {
          "output_type": "stream",
          "text": "['The next character is H', 'The next character is e', 'The next character is l', 'The next character is l', 'The next character is o', 'The next character is  ', 'The next character is W', 'The next character is o', 'The next character is r', 'The next character is l', 'The next character is d', 'The next character is !']\n",
          "name": "stdout"
        }
      ]
    },
    {
      "metadata": {},
      "cell_type": "markdown",
      "source": "### Exercise: \n\nUse ***list comprehension*** to create a list with 9 values from $-\\pi$ to $\\pi$.  \nThe formula to use is: $-\\pi + i(2\\pi)/8$ for each value $i$ in a list [0..8] created using `list()` and `range()`. \n\n\n* You will need to import `pi` from the `math` library\n* The values obtained should be $-\\pi, -3\\pi/4, -\\pi/2, -\\pi/4, 0.0, \\pi/4, \\pi/2, 3\\pi/4, \\pi$"
    },
    {
      "metadata": {
        "trusted": true
      },
      "cell_type": "code",
      "source": "mylist = (list(range(0,9)))\nprint (mylist)\n\nfrom math import pi\npilist = [-pi + i*(2*pi)/8 for i in mylist]\nprint(pilist)\n\n\n",
      "execution_count": 26,
      "outputs": [
        {
          "output_type": "stream",
          "text": "[0, 1, 2, 3, 4, 5, 6, 7, 8]\n[-3.141592653589793, -2.356194490192345, -1.5707963267948966, -0.7853981633974483, 0.0, 0.7853981633974483, 1.5707963267948966, 2.356194490192345, 3.141592653589793]\n",
          "name": "stdout"
        }
      ]
    },
    {
      "metadata": {},
      "cell_type": "markdown",
      "source": "Hint (double click here to reveal): $\\bullet\\bullet\\bullet$\n\n<!--HINT:\n   ```\n   OLDLIST = list(range(X)) # creates a list from zero to X-1  \n   newlist = [CALCULATION for VALUE in OLDLIST] # suing the formula given in the question\n   ```\n-->"
    },
    {
      "metadata": {
        "trusted": true
      },
      "cell_type": "code",
      "source": "from math import pi\n# Check your answers against this:\nwhat_you_should_get = [-pi, -3*pi/4, -pi/2, -pi/4, 0.0, pi/4, pi/2, 3*pi/4, pi]\nprint(what_you_should_get)",
      "execution_count": 2,
      "outputs": [
        {
          "output_type": "stream",
          "text": "[-3.141592653589793, -2.356194490192345, -1.5707963267948966, -0.7853981633974483, 0.0, 0.7853981633974483, 1.5707963267948966, 2.356194490192345, 3.141592653589793]\n",
          "name": "stdout"
        }
      ]
    },
    {
      "metadata": {},
      "cell_type": "markdown",
      "source": "Model Solution (click here to see):\n\n<!--#code below:\nfrom math import pi\n\nnvals = list(range(9))\nprint(nvals)\n\npilist = [-pi + i*2*pi/8 for i in ivals]\nprint(mylist)\n-->\n\n* This example shows why counting from zero can be useful (think about this)."
    },
    {
      "metadata": {},
      "cell_type": "markdown",
      "source": "## Iterating using FOR loops\n\nAnother way to repeatedly persorm some funtion **for** all the items in a list is using a *\"`for` loop\"*.\n\n### Iterating through Strings \n\nWe can step through the letters in a string and repeat a block of\n**INDENTED** code <span>**for**</span> each character in the string. \n\nHere the `for` statement takes each letter in the string\n`\"Hello World!\"` in turn and assigns it to the variable we call `letr`. \n\nThe indented code block is repeated in a loop for each character. \n\nEach time the loop repeats the variable `letr` takes the next value.  \nOnce the string is finished the indented block exits.\n\n* Notice that the code that is repeated has to be *indented* (usually by 4 spaces)."
    },
    {
      "metadata": {
        "ExecuteTime": {
          "end_time": "2019-02-01T21:26:47.74223Z",
          "start_time": "2019-02-01T21:26:47.736237Z"
        },
        "trusted": true
      },
      "cell_type": "code",
      "source": "for letr in \"Hello World!\":\n    print(\"The next character is: \"+letr)",
      "execution_count": null,
      "outputs": []
    },
    {
      "metadata": {},
      "cell_type": "markdown",
      "source": "This is equivalent to performing the following commands in sequence:\n```python\nletr='H'\nprint(\"the next letter is:\", letr)\nletr='e'\nprint(\"the next letter is:\", letr)\n```\n... and so on."
    },
    {
      "metadata": {},
      "cell_type": "markdown",
      "source": "### FOR Loops on Lists\n\nWe can step through the items in a list in the same way as stepping\nthrough the characters in a string."
    },
    {
      "metadata": {
        "ExecuteTime": {
          "end_time": "2019-02-01T21:27:02.622294Z",
          "start_time": "2019-02-01T21:27:02.616302Z"
        },
        "trusted": true
      },
      "cell_type": "code",
      "source": "for next_item in [\"spam\", \"eggs\", \"cheese\"]:\n    print(\"buy some\", next_item)",
      "execution_count": 14,
      "outputs": [
        {
          "output_type": "stream",
          "text": "buy some spam\nbuy some eggs\nbuy some cheese\n",
          "name": "stdout"
        }
      ]
    },
    {
      "metadata": {},
      "cell_type": "markdown",
      "source": "### Performing calculations using FOR loops\n\nLook at the three ways of performing the same task below to see\nhow FOR loops can be used to simplify a task (the comma stops printing on a new line):"
    },
    {
      "metadata": {
        "ExecuteTime": {
          "end_time": "2019-02-01T21:27:21.64639Z",
          "start_time": "2019-02-01T21:27:21.640389Z"
        },
        "trusted": true
      },
      "cell_type": "code",
      "source": "print(1**2, end=', ')\nprint(2**2, end=', ')\nprint(3**2)",
      "execution_count": 15,
      "outputs": [
        {
          "output_type": "stream",
          "text": "1, 4, 9\n",
          "name": "stdout"
        }
      ]
    },
    {
      "metadata": {},
      "cell_type": "markdown",
      "source": "* The `end=', '` argument makes sure each `print()` is followed by a comma and not a new line (return character).\n\nWe can rewrite this using a counter `n`:"
    },
    {
      "metadata": {
        "ExecuteTime": {
          "end_time": "2019-02-01T21:27:22.192037Z",
          "start_time": "2019-02-01T21:27:22.184044Z"
        },
        "trusted": true
      },
      "cell_type": "code",
      "source": "n = 1\nprint(n**2, end=', ')\nn = 2\nprint(n**2, end=', ')\nn = 3\nprint(n**2)",
      "execution_count": null,
      "outputs": []
    },
    {
      "metadata": {},
      "cell_type": "markdown",
      "source": "This can now be made compact using a loop:"
    },
    {
      "metadata": {
        "ExecuteTime": {
          "end_time": "2019-02-01T21:27:22.750072Z",
          "start_time": "2019-02-01T21:27:22.744071Z"
        },
        "trusted": true
      },
      "cell_type": "code",
      "source": "numbers = [1, 2, 3]\nfor n in numbers:\n    print(n**2, end=', ')",
      "execution_count": 18,
      "outputs": [
        {
          "output_type": "stream",
          "text": "1, 4, 9, ",
          "name": "stdout"
        }
      ]
    },
    {
      "metadata": {},
      "cell_type": "markdown",
      "source": "#### Using the range() Function\n\nThe `range` function can be used directly to iterate a block of instructions for\na set number of steps, i.e. for a certain *range* of values.\n\nHere `i` is just a variable name for a counter that takes values in the range `0:5` (i.e. 6 values),  \nit could be used in the calculation, or as an index to access a value in a list or string, or not used at all:\n\n* Notice that a **BLOCK** of code is indented by the same number of spaces, and all of this repeats"
    },
    {
      "metadata": {
        "ExecuteTime": {
          "end_time": "2019-02-01T21:27:27.924285Z",
          "start_time": "2019-02-01T21:27:27.917293Z"
        },
        "trusted": true
      },
      "cell_type": "code",
      "source": "n = 1\n\n# for each iteration of the loop, times the previous n by 10\nfor i in range(6):\n    n = n*10\n    print(i, n, end=', ')\n    \nprint(\"\"\"\\nAnything after the indented block, using normal indentation (back to the margin), \nonly gets executed AFTER the loop has finished iterating.\"\"\")",
      "execution_count": 20,
      "outputs": [
        {
          "output_type": "stream",
          "text": "0 10, 1 100, 2 1000, 3 10000, 4 100000, 5 1000000, \nAnything after the indented block, using normal indentation (back to the margin), \nonly gets executed AFTER the loop has finished iterating.\n",
          "name": "stdout"
        }
      ]
    },
    {
      "metadata": {},
      "cell_type": "markdown",
      "source": "The syntax is `range(int1,int2,step)`, where the list generated is all\nthe integers <span>*between*</span> the integers `int1` and `int2` in\nsteps of `step`.  \nThis does not include the actual value `int2` (see\nslicing rules in Lesson 2).  \nIf the start value (`int1`)\nis omitted the list starts from 0, and the default step is 1."
    },
    {
      "metadata": {},
      "cell_type": "markdown",
      "source": "### Exercise 2\n\nUse a `for` loop to create a list with 9 values from $-\\pi$ to $\\pi$.  \nUse the same formula as before: $-\\pi + i(2\\pi)/8$. \n\nThe code structure should look similar to this:\nDo the same using , use the `round()` function to round to 2.d.p:\n\n```python\nLIST = []\nfor INTEGER in range(X):\n       value = CALCULATION\n       value2 = ROUND value TO 2DP (using the above function)\n       LIST.append(value2) #adds a new value to the end of the list\n```\n\n* Note that the append function adds to the end of a list as in this example (try it!)\n```python\na = [1,2,\"hello\", pi]\na.append(42)\nprint(a)\n```\n`[1, 2, 'hello', 3.141592653589793, 42]`"
    },
    {
      "metadata": {
        "trusted": true
      },
      "cell_type": "code",
      "source": "##EDIT THE LINES BELOW (after removing a #) \n\n# LIST = []\n\n#for INTEGER in range(X):\n#    VALUE = CALCULATION\n#    VALUE2 = round VALUE to 2dp (using the above function)\n#    LIST.append(VALUE2) #adds a new value to the end of the list\ni=1\nLIST = (list(range(9)))\n\nfrom math import pi\nfor INTEGER in range(9):\n    i = (-pi + INTEGER*(2*pi)/8)\n    w = \"{:.2f}\" .format(i)\n    print(w, end = \", \")\n    LIST.append(w)\n    \nprint(LIST)\n",
      "execution_count": 31,
      "outputs": [
        {
          "output_type": "stream",
          "text": "-3.14, -2.36, -1.57, -0.79, 0.00, 0.79, 1.57, 2.36, 3.14, [0, 1, 2, 3, 4, 5, 6, 7, 8, '-3.14', '-2.36', '-1.57', '-0.79', '0.00', '0.79', '1.57', '2.36', '3.14']\n",
          "name": "stdout"
        }
      ]
    },
    {
      "metadata": {},
      "cell_type": "markdown",
      "source": "Result: `[-3.14, -2.36, -1.57, -0.79, 0.0, 0.79, 1.57, 2.36, 3.14]`  \n\nHIDDEN SOLUTION  \n\n<!--\nmylist=[]\n\nfor n in range(9):  # n goes from 0 to 99\n    x = -pi + n*2*pi/8  # formula for values\n    x = round(x, 2)\n    mylist.append(x)\n\nprint(mylist)\n-->"
    },
    {
      "metadata": {},
      "cell_type": "markdown",
      "source": "Nested Loops\n------------\n\nWe can also have loops inside loops, which are called <span>*nested\nloops*</span>. In the case of a nested FOR loop, for each item in the\nlist we then iterate over the contents and perform some action."
    },
    {
      "metadata": {
        "ExecuteTime": {
          "end_time": "2019-02-01T21:27:29.217244Z",
          "start_time": "2019-02-01T21:27:29.209246Z"
        },
        "trusted": true
      },
      "cell_type": "code",
      "source": "for a_word in [\"spam\", \"eggs\", \"cheese\"]:\n    print(a_word+\":\", end=' ')\n\n    # this loop executes once per iteration of the outer loop\n    for a_letter in a_word:\n        print(a_letter, \";\", end=' ')\n\n    # \"\\n\" starts a new line. could also use: print \"\"  without a comma (try this)\n    print(\"\\n\", end=' ')",
      "execution_count": 10,
      "outputs": [
        {
          "output_type": "stream",
          "text": "spam: s ; p ; a ; m ; \n eggs: e ; g ; g ; s ; \n cheese: c ; h ; e ; e ; s ; e ; \n ",
          "name": "stdout"
        }
      ]
    },
    {
      "metadata": {},
      "cell_type": "markdown",
      "source": "Where the general format is:\n```python\nHEADER 1: \n    CODE FOR BLOCK 1\n        HEADER 2: \n            CODE FOR BLOCK 2 \n            ... \n        MORE CODE FOR BLOCK 1 \n        ...\nMAIN PROGRAMME\n```"
    },
    {
      "metadata": {
        "ExecuteTime": {
          "end_time": "2019-02-01T21:27:33.294281Z",
          "start_time": "2019-02-01T21:27:33.288284Z"
        },
        "trusted": true
      },
      "cell_type": "code",
      "source": "n = 3\nfor i in range(n):\n    for j in range(1, 4):\n        print(i, j, i*n + j)",
      "execution_count": 11,
      "outputs": [
        {
          "output_type": "stream",
          "text": "0 1 1\n0 2 2\n0 3 3\n1 1 4\n1 2 5\n1 3 6\n2 1 7\n2 2 8\n2 3 9\n",
          "name": "stdout"
        }
      ]
    },
    {
      "metadata": {},
      "cell_type": "markdown",
      "source": "Another useful function is `enumerate()`, which gives an index number to items in a list or string:"
    },
    {
      "metadata": {
        "trusted": true
      },
      "cell_type": "code",
      "source": "greeting = \"Hello World!\"\nfor idx, letr in enumerate(greeting):\n    print(f\"Character with index {idx} is: {letr}\")",
      "execution_count": 12,
      "outputs": [
        {
          "output_type": "stream",
          "text": "Character with index 0 is: H\nCharacter with index 1 is: e\nCharacter with index 2 is: l\nCharacter with index 3 is: l\nCharacter with index 4 is: o\nCharacter with index 5 is:  \nCharacter with index 6 is: W\nCharacter with index 7 is: o\nCharacter with index 8 is: r\nCharacter with index 9 is: l\nCharacter with index 10 is: d\nCharacter with index 11 is: !\n",
          "name": "stdout"
        }
      ]
    },
    {
      "metadata": {},
      "cell_type": "markdown",
      "source": "* Note that the `f\"Some String with {variable}\"` allows the inline formatting of a variable directly in a string."
    },
    {
      "metadata": {},
      "cell_type": "markdown",
      "source": "# Task 3\n\n## Creating a Simple Histogram\n\nA histogram puts data into discrete compartments (*\"bins\"*) to look at the disribution of the number of data in each interval.\n\n* Start a new notebook before doing this task.\n\n\n1.  Create a data list to hold the following data points, which lie between 0 and 10:\n    $$3.6, 4.5, 2.3, 2.6, 5.3, 4.9, 4.1, 8.1, 6.8, 6.7, 5.1, 5.7, 3.9, 5.4, 4.9, 5.1, 4.7, 4.7, 7.9, 3.8$$\n\n2.  Use the method below to make a list of zeros of length 10 (to hold the count values):  \n    `HISTLIST = [0]*10`  \n\n3.  Loop through the data list, turning each value into an int, then\n    add one to that element of the histogram array.(using the int as the\n    index value):\n    ```\n    for each value in your data list:\n         index_integer = #integer of the current value for which bin to add to\n         HISTLIST[index_integer] += 1 #adds one to the specified value\n    ``` \n\n4.  Print the histogram list.\n\n\n* Download as a `.py` python file and check in Spyder or commandline before syubitting the `EXERCISE_2.py` to moodle. "
    },
    {
      "metadata": {},
      "cell_type": "markdown",
      "source": "## Extra Exercises for more Practice\n\n### Fibonacci Sequence Iteration\n\nUse the following outline for a code (so-called *\"pseudo-code\"*) to write a program to generate the first\n12 values of the Fibonacci sequence."
    },
    {
      "metadata": {
        "trusted": true
      },
      "cell_type": "code",
      "source": "# Fibonacci sequence\n\n# 1. Define a new list containing first two values (1 and 1) using square bracket notation,\n\n# 2. use a FOR loop and the range() function to iterate for 10 steps\n\n# 3. use negative indexing to add the last two values of the list and\n#   assign it to a variable for the next value\n\n# 4. append this next value to the end of the list using syntax like:\n# LISTNAME=LISTNAME+[NEWENTRY]\n\n# 5. Print the list",
      "execution_count": null,
      "outputs": []
    },
    {
      "metadata": {},
      "cell_type": "markdown",
      "source": "Result: `[1, 1, 2, 3, 5, 8, 13, 21, 34, 55, 89, 144]`\n\n-   Note that the new entry has to be enclosed in square brackets `[]`\n    to convert it to a list. This is because lists can only be added to\n    other lists.\n    \n-   Try printing the ratio of the last two steps at each iteration and\n    see how they converge to the <span>*Golden Ratio*</span>.\n\n[Hidden model solution, - double click here to see]\n\n<!--#CODE:\n# Fibonacci sequence\nfib = [1, 1]  # first define the first two values\n\n# loop for 10 steps\nfor i in range(10):\n    nextval = fib[-1]+fib[-2]  # sum the last two values in the fib list\n    fib = fib+[nextval]  # append the next value to the end of the list\n\nprint(fib)\n-->"
    },
    {
      "metadata": {},
      "cell_type": "markdown",
      "source": "## Square Root Iteration \n\nThe value of $\\sqrt{2}$ can be calculated by iteration using: \n$x_n = \\dfrac{1}{2}\\left(x_{n-1} + \\dfrac{2}{x_{n-1}}\\right)$\n\nUse the techniques you learned for the $\\pi$ sequence to:\n\n1.  Use a FOR loop to perform it for 10 steps\n\n    -   Check the value against the actual value $x=\\sqrt{2}=2^{0.5}$"
    },
    {
      "metadata": {
        "trusted": true
      },
      "cell_type": "code",
      "source": "#initialise x to 2\n\n#for loop goes here\n\nprint(x, 2**0.5)",
      "execution_count": null,
      "outputs": []
    },
    {
      "metadata": {},
      "cell_type": "markdown",
      "source": "Result: `1.414213562373095 1.4142135623730951`\n\nHidden solution:\n\n<!--#code:\nx = 2\nfor i in range(10):\n    x = 0.5*(x+2/x)\nprint(x, 2**0.5)\n-->"
    },
    {
      "metadata": {},
      "cell_type": "markdown",
      "source": "## Backwards Indexed Loop\n\nUse the `range(START, STOP, STEP)` function with backwards indexing and a `for` loop to reverse the string `\"Backwards!\"`\n    - Hint: you will need to experiment with the limits to get it right!"
    },
    {
      "metadata": {
        "trusted": true
      },
      "cell_type": "code",
      "source": "b = \"Backwards!\"\n\n#for loop:\n    print(?, end=\"\")",
      "execution_count": null,
      "outputs": []
    },
    {
      "metadata": {},
      "cell_type": "markdown",
      "source": "Result: `!sdrawkcaB`\n\nHidden solution:\n\n<!--#Code:\nb = \"Backwards!\"\n\nfor i in range(len(b)-1, -1, -1):\n    print(b[i], end=\"\")\n-->"
    }
  ],
  "metadata": {
    "anaconda-cloud": {},
    "hide_input": false,
    "kernelspec": {
      "name": "python36",
      "display_name": "Python 3.6",
      "language": "python"
    },
    "language_info": {
      "mimetype": "text/x-python",
      "nbconvert_exporter": "python",
      "name": "python",
      "pygments_lexer": "ipython3",
      "version": "3.6.6",
      "file_extension": ".py",
      "codemirror_mode": {
        "version": 3,
        "name": "ipython"
      }
    },
    "toc": {
      "base_numbering": 1,
      "nav_menu": {},
      "number_sections": true,
      "sideBar": true,
      "skip_h1_title": false,
      "title_cell": "Table of Contents",
      "title_sidebar": "Contents",
      "toc_cell": false,
      "toc_position": {},
      "toc_section_display": true,
      "toc_window_display": false
    }
  },
  "nbformat": 4,
  "nbformat_minor": 1
}