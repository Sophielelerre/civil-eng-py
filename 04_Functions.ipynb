{
  "cells": [
    {
      "metadata": {},
      "cell_type": "markdown",
      "source": "# Writing Functions\n\n\nRemember to type in and run\nall the examples as you go through these materials. \n\n\n## Functions\n\nAnother crucial part of programming is the\nability to define functions when we want to do the same thing in several places.  \nA function is a rule that takes input values and produces output values.  \nPython functions are not quite the same as\nmathematical functions.  \nHowever in Python a\nfunction that is called several times with the same input can return\ndifferent values each time. A Python function can also have side\neffects, such as output to the screen or to a file. \n\nWe will start of by exploring some of the functions that are available\nin Python and then we will see how to build our own functions.\n\n### Built-in Functions \n\nWe have already come across several functions that are available\ndirectly in Python: `print`, `int`, `float`, `round`, `list`, `range`...  \nSome others are `type`, `abs`, `min` and `max`. \n\n* To use a function you need the name of the function followed by the arguments in brackets. \n    * The arguments can be numbers, variables, calculations or other functions. \n\nThe functions we had already seen and also the `abs` and `type` function take one input, known as its ***\"argument\"*** and **return** one thing back, known as the result. "
    },
    {
      "metadata": {
        "ExecuteTime": {
          "end_time": "2019-02-01T21:17:48.833534Z",
          "start_time": "2019-02-01T21:17:48.826529Z"
        },
        "trusted": true
      },
      "cell_type": "code",
      "source": "int(4.436e2), round(4.436e2), float(-68), type(42), type(\"Hello\")",
      "execution_count": 1,
      "outputs": [
        {
          "output_type": "execute_result",
          "execution_count": 1,
          "data": {
            "text/plain": "(443, 444, -68.0, int, str)"
          },
          "metadata": {}
        }
      ]
    },
    {
      "metadata": {
        "ExecuteTime": {
          "end_time": "2019-02-01T21:17:48.833534Z",
          "start_time": "2019-02-01T21:17:48.826529Z"
        },
        "trusted": true
      },
      "cell_type": "code",
      "source": "abs(5), abs(-5), abs(6.01 + 0.01), abs(-6.01 - 0.01)",
      "execution_count": 2,
      "outputs": [
        {
          "output_type": "execute_result",
          "execution_count": 2,
          "data": {
            "text/plain": "(5, 5, 6.02, 6.02)"
          },
          "metadata": {}
        }
      ]
    },
    {
      "metadata": {},
      "cell_type": "markdown",
      "source": "The `min` and `max` functions take two (or more) arguments and return one result. \n\nIf there are several arguments they have to be separated by commas. "
    },
    {
      "metadata": {
        "ExecuteTime": {
          "end_time": "2019-02-01T21:17:52.095678Z",
          "start_time": "2019-02-01T21:17:52.090678Z"
        },
        "trusted": true
      },
      "cell_type": "code",
      "source": "max(-3, 5)",
      "execution_count": 3,
      "outputs": [
        {
          "output_type": "execute_result",
          "execution_count": 3,
          "data": {
            "text/plain": "5"
          },
          "metadata": {}
        }
      ]
    },
    {
      "metadata": {
        "ExecuteTime": {
          "end_time": "2019-02-01T21:17:52.095678Z",
          "start_time": "2019-02-01T21:17:52.090678Z"
        },
        "trusted": true
      },
      "cell_type": "code",
      "source": "min(-3, 5, 0, -10)",
      "execution_count": 4,
      "outputs": [
        {
          "output_type": "execute_result",
          "execution_count": 4,
          "data": {
            "text/plain": "-10"
          },
          "metadata": {}
        }
      ]
    },
    {
      "metadata": {},
      "cell_type": "markdown",
      "source": "## Returned values\n\nSome functions like `sqrt()` **return** a value that can be used, others just perform a function but do not give anything back, such as the `print()` function, which only prints to the screen but does not return a value: "
    },
    {
      "metadata": {
        "trusted": true
      },
      "cell_type": "code",
      "source": "from math import sqrt\na = sqrt(2)\nprint(a)",
      "execution_count": 5,
      "outputs": [
        {
          "output_type": "stream",
          "text": "1.4142135623730951\n",
          "name": "stdout"
        }
      ]
    },
    {
      "metadata": {
        "trusted": true
      },
      "cell_type": "code",
      "source": "b = print(42)",
      "execution_count": 6,
      "outputs": [
        {
          "output_type": "stream",
          "text": "42\n",
          "name": "stdout"
        }
      ]
    },
    {
      "metadata": {
        "trusted": true
      },
      "cell_type": "code",
      "source": "print(b)",
      "execution_count": 7,
      "outputs": [
        {
          "output_type": "stream",
          "text": "None\n",
          "name": "stdout"
        }
      ]
    },
    {
      "metadata": {},
      "cell_type": "markdown",
      "source": "* A special value of `None` was returned to the varable `b`."
    },
    {
      "metadata": {},
      "cell_type": "markdown",
      "source": "Another very useful built-in function is the help function.  \nThe help\nfunction takes a single argument and \nprints useful information about the\nthing passed on as the input argument.  \nWe can use this get information about\nwhat a function does and how to use it."
    },
    {
      "metadata": {
        "ExecuteTime": {
          "end_time": "2019-02-01T21:17:52.605492Z",
          "start_time": "2019-02-01T21:17:52.601492Z"
        },
        "trusted": true
      },
      "cell_type": "code",
      "source": "help(abs)",
      "execution_count": null,
      "outputs": []
    },
    {
      "metadata": {},
      "cell_type": "markdown",
      "source": "### Imported Functions\n\nIn the previous section we saw that to access certain objects (constants or functions),\nwe have to load a library first. "
    },
    {
      "metadata": {
        "ExecuteTime": {
          "end_time": "2019-02-01T21:17:52.915725Z",
          "start_time": "2019-02-01T21:17:52.905723Z"
        },
        "trusted": true
      },
      "cell_type": "code",
      "source": "import math\n\nprint(math.exp(1))",
      "execution_count": null,
      "outputs": []
    },
    {
      "metadata": {
        "ExecuteTime": {
          "end_time": "2019-02-01T21:17:52.915725Z",
          "start_time": "2019-02-01T21:17:52.905723Z"
        },
        "trusted": true
      },
      "cell_type": "code",
      "source": "from math import sqrt, cos, sin, pi\n\nprint(sqrt(36))\nprint(cos(0))\nprint(cos(pi))",
      "execution_count": null,
      "outputs": []
    },
    {
      "metadata": {
        "ExecuteTime": {
          "end_time": "2019-02-01T21:17:52.915725Z",
          "start_time": "2019-02-01T21:17:52.905723Z"
        },
        "trusted": true
      },
      "cell_type": "code",
      "source": "a = 2.3\n\nprint(sin(2*a), 2 * sin(a) * cos(a))",
      "execution_count": null,
      "outputs": []
    },
    {
      "metadata": {
        "ExecuteTime": {
          "end_time": "2019-02-01T21:17:52.915725Z",
          "start_time": "2019-02-01T21:17:52.905723Z"
        },
        "trusted": true
      },
      "cell_type": "code",
      "source": "x = 2\nprint(math.cosh(x), (math.exp(x) + math.exp(-x))/2.0)\nprint(math.log(math.exp(x)), math.exp(math.log(x)))",
      "execution_count": null,
      "outputs": []
    },
    {
      "metadata": {},
      "cell_type": "markdown",
      "source": "The mathematical functions in the `math` module always work with\nfloating point numbers. This means that integers will be converted to\nfloating point numbers first. The expression `math.sqrt(36)` will return\nthe floating point number `6.0` even though the result could be\nrepresented by an integer.\n\nThe `help` function can also be applied to modules. This will result in\na list of all the functions and constants contained in that module,\ntogether with their documentation. This information can also be found in\nthe Python documentation, but it is often convenient to have it\navailable directly. \n\n* Try this for the `math` module by printing `help(math)`.\n\nThe built-in function `dir` allows us to get just a list of names of\nfunctions and constants for a module."
    },
    {
      "metadata": {
        "ExecuteTime": {
          "end_time": "2019-02-01T21:17:53.200662Z",
          "start_time": "2019-02-01T21:17:53.194659Z"
        },
        "trusted": true
      },
      "cell_type": "code",
      "source": "import math\n\nprint(dir(math))",
      "execution_count": null,
      "outputs": []
    },
    {
      "metadata": {},
      "cell_type": "markdown",
      "source": "## Defining Functions \n\nWe can define our own functions using the `def` keyword."
    },
    {
      "metadata": {
        "ExecuteTime": {
          "end_time": "2019-02-01T21:17:53.5214Z",
          "start_time": "2019-02-01T21:17:53.516396Z"
        },
        "trusted": true
      },
      "cell_type": "code",
      "source": "def sq(x):\n    return x**2",
      "execution_count": null,
      "outputs": []
    },
    {
      "metadata": {},
      "cell_type": "markdown",
      "source": "* A function definition starts with the keyword `def`, \n* then comes the name of the function and a set of brackets, \n    * The names of functions and parameters have to follow the same rules as\nthe names of variables  \n(letters, numbers and underscores, no numbers or\nunderscores at the start).\n* inside the brackets put any parameters that are to be used in the function\n    * multiple parameters are separated by commas.\n* a colon must follow the brackets\n* After the colon, starting on the next line, we can have one or more lines of code that make up the function.\n    * anything the function does must be *indented* by the same number of spaces (conventionally 4)\n    * the contents of the function are known as a ***\"code block\"*** (see below).\n    * Anything indented will be run together when the function is used, but nothing afterwards.\n    \nOnce a function is defined, it can be called in exactly the same way as\na built-in function.  \nThe **`return`** line says what the output of the function will be.  \n* The **returned** output value can then be used as a variable or printed."
    },
    {
      "metadata": {
        "ExecuteTime": {
          "end_time": "2019-02-01T21:17:53.822659Z",
          "start_time": "2019-02-01T21:17:53.817655Z"
        },
        "trusted": true
      },
      "cell_type": "code",
      "source": "def sq(x):\n    return x**2\n\n\nprint(sq(2))",
      "execution_count": 8,
      "outputs": [
        {
          "output_type": "stream",
          "text": "4\n",
          "name": "stdout"
        }
      ]
    },
    {
      "metadata": {
        "ExecuteTime": {
          "end_time": "2019-02-01T21:17:53.822659Z",
          "start_time": "2019-02-01T21:17:53.817655Z"
        },
        "trusted": true
      },
      "cell_type": "code",
      "source": "u = 3.5\nv = sq(u+0.5) - 1.0\nprint(v)",
      "execution_count": 9,
      "outputs": [
        {
          "output_type": "stream",
          "text": "15.0\n",
          "name": "stdout"
        }
      ]
    },
    {
      "metadata": {},
      "cell_type": "markdown",
      "source": "### Exercise: \n\nDefine the function $f(x) = \\dfrac{x^2}{3 + x}$. \n\n* Determine the quantities $f(0)$, $f(-1)$ and $f(1/3)$."
    },
    {
      "metadata": {
        "trusted": true
      },
      "cell_type": "code",
      "source": "#define function name and arguments here\n    #indented code for what to return to outside programme\n    \ndef topolino(x) :\n    return (x**2)/(3+x)\nprint(topolino(0), topolino(-1))\n",
      "execution_count": 16,
      "outputs": [
        {
          "output_type": "stream",
          "text": "0.0 0.5\n",
          "name": "stdout"
        }
      ]
    },
    {
      "metadata": {},
      "cell_type": "markdown",
      "source": "Result: `0.0 0.5 0.03333333333333333`\n\nDouble click for Solution: $\\bullet\\bullet$\n\n<!--#model code:\ndef f(x):\n    return x**2/(3 + x)\n#tests:\nprint(f(0), f(-1), f(1/3))\n-->"
    },
    {
      "metadata": {},
      "cell_type": "markdown",
      "source": "### Indentation of Code Blocks\n\nThe code run by the fuction must be *indented* by the same number of spaces.  \nThis tells Python what is part of the function and what is outside it.  \nWe can run many commands inside a function, including printing to the screen, rather than returning a value to be printed or used in a variable."
    },
    {
      "metadata": {
        "ExecuteTime": {
          "end_time": "2019-02-01T21:17:54.129663Z",
          "start_time": "2019-02-01T21:17:54.122658Z"
        },
        "trusted": true
      },
      "cell_type": "code",
      "source": "def do_things(a_number):\n    print(\"Your number is %.2f to 2DP\" % a_number)\n    print(\"Squared it is:\", a_number**2)\n    asqrt = a_number**0.5\n    print(\"The square root of \" + str(a_number) + \" has been returned\")\n    return asqrt\n    print(\"This does nothing because a return statement terminates the function!\")\n\nprint(\"This is not inside the function!\")",
      "execution_count": 17,
      "outputs": [
        {
          "output_type": "stream",
          "text": "This is not inside the function!\n",
          "name": "stdout"
        }
      ]
    },
    {
      "metadata": {
        "ExecuteTime": {
          "end_time": "2019-02-01T21:17:54.129663Z",
          "start_time": "2019-02-01T21:17:54.122658Z"
        },
        "trusted": true
      },
      "cell_type": "code",
      "source": "x = 5.499025\ny = do_things(x)\nprint(\"This is after the function finishes!\")",
      "execution_count": 18,
      "outputs": [
        {
          "output_type": "stream",
          "text": "Your number is 5.50 to 2DP\nSquared it is: 30.239275950624997\nThe square root of 5.499025 has been returned\nThis is after the function finishes!\n",
          "name": "stdout"
        }
      ]
    },
    {
      "metadata": {},
      "cell_type": "markdown",
      "source": "* Notice: the last `print()` in the `do_things()` function is ignored because a function **ends** on a `return` statement!"
    },
    {
      "metadata": {
        "ExecuteTime": {
          "end_time": "2019-02-01T21:17:54.129663Z",
          "start_time": "2019-02-01T21:17:54.122658Z"
        },
        "trusted": true
      },
      "cell_type": "code",
      "source": "print(y)",
      "execution_count": null,
      "outputs": []
    },
    {
      "metadata": {},
      "cell_type": "markdown",
      "source": "Note: When a function is used any arguments needed must be given in the brackets.  \nAlso the name of the argument in the function definition `a_number` and that given as an argument when applying the function `x` are **unrelated**."
    },
    {
      "metadata": {},
      "cell_type": "markdown",
      "source": "### Exercise:  Truncate Decimal Places\n\nWrite a function `trunc5dp` that truncates a number after the fifth decimal place. For example, `trunc5dp(4321.1234567) = 4321.12345`. \n\nThe steps (algorithm) for doing this are:\n1. Multiply by $10^5$ (either written `100000` or `1e5`), - e.g. $4321.1234567$ becomes $432112345.67$\n2. use the `int()` function to remove trailing decimals, - e.g. $432112345.67$ becomes $432112345$\n3. divide by $10^5$. - e.g. $432112345$ becomes $4321.12345$"
    },
    {
      "metadata": {
        "trusted": true
      },
      "cell_type": "code",
      "source": "#function name definition, with 1 argument\n    # code block\n    # using algorithm\n    # goes here\n    # return the answer\n    \ndef trunc5dp (x) :\n    x = int(x*(10**5))/(10**5)\n    return x\n\nexample = trunc5dp(4321.1234567)\n\nprint(example)\n    \n    \n\n    \n\nans = trunc5dp(4321.1234567)\nprint(ans)",
      "execution_count": 22,
      "outputs": [
        {
          "output_type": "stream",
          "text": "4321.12345\n4321.12345\n",
          "name": "stdout"
        }
      ]
    },
    {
      "metadata": {},
      "cell_type": "markdown",
      "source": "* Does your function do what you expect for negative numbers?"
    },
    {
      "metadata": {
        "trusted": true
      },
      "cell_type": "code",
      "source": "print(trunc5dp(-4321.1234567))  # truncates (round towards zero)",
      "execution_count": null,
      "outputs": []
    },
    {
      "metadata": {},
      "cell_type": "markdown",
      "source": "Click to see solution...\n\n<!--#code:\ndef trunc5dp(x):\n    x = x*1e5\n    x = int(x)\n    x = x/1e5\n    return x\n-->"
    },
    {
      "metadata": {},
      "cell_type": "markdown",
      "source": "The parameters inside the definition of the function will be assigned\nas the names of the arguments only temporarily inside the function.  \nThey do not keep these variable names outside."
    },
    {
      "metadata": {
        "ExecuteTime": {
          "end_time": "2019-02-01T21:17:54.534662Z",
          "start_time": "2019-02-01T21:17:54.409666Z"
        },
        "trusted": true
      },
      "cell_type": "code",
      "source": "def myfunc(temporary_variable_name):\n    return temporary_variable_name * 2\n\n\nx = 10\n\n# x will be renamed temporary_variable_name inside the function (and only there)\ny = myfunc(x)\n\nprint(y)",
      "execution_count": 23,
      "outputs": [
        {
          "output_type": "stream",
          "text": "20\n",
          "name": "stdout"
        }
      ]
    },
    {
      "metadata": {
        "ExecuteTime": {
          "end_time": "2019-02-01T21:17:54.534662Z",
          "start_time": "2019-02-01T21:17:54.409666Z"
        },
        "trusted": true
      },
      "cell_type": "code",
      "source": "print(temporary_variable_name)  # this will lead to an error",
      "execution_count": 24,
      "outputs": [
        {
          "output_type": "error",
          "ename": "NameError",
          "evalue": "name 'temporary_variable_name' is not defined",
          "traceback": [
            "\u001b[0;31m---------------------------------------------------------------------------\u001b[0m",
            "\u001b[0;31mNameError\u001b[0m                                 Traceback (most recent call last)",
            "\u001b[0;32m<ipython-input-24-bc07f636ee16>\u001b[0m in \u001b[0;36m<module>\u001b[0;34m\u001b[0m\n\u001b[0;32m----> 1\u001b[0;31m \u001b[0mprint\u001b[0m\u001b[0;34m(\u001b[0m\u001b[0mtemporary_variable_name\u001b[0m\u001b[0;34m)\u001b[0m  \u001b[0;31m# this will lead to an error\u001b[0m\u001b[0;34m\u001b[0m\u001b[0m\n\u001b[0m",
            "\u001b[0;31mNameError\u001b[0m: name 'temporary_variable_name' is not defined"
          ]
        }
      ]
    },
    {
      "metadata": {},
      "cell_type": "markdown",
      "source": "* Think about this...\n\nIn the same way you can use a variable name in the definition of a function that is the same as in the rest of the program, and it will not affect it."
    },
    {
      "metadata": {
        "ExecuteTime": {
          "end_time": "2019-02-01T21:17:54.717664Z",
          "start_time": "2019-02-01T21:17:54.711657Z"
        },
        "trusted": true
      },
      "cell_type": "code",
      "source": "a = 1\n\n\ndef root(a):\n    a = a**0.5\n    return a\n\n\nb = 2\n\nprint(root(b))\nprint(a)",
      "execution_count": 25,
      "outputs": [
        {
          "output_type": "stream",
          "text": "1.4142135623730951\n1\n",
          "name": "stdout"
        }
      ]
    },
    {
      "metadata": {},
      "cell_type": "markdown",
      "source": "* Here `a` is a different thing *inside* to *outside* the function. Make sure you are clear on this."
    },
    {
      "metadata": {},
      "cell_type": "markdown",
      "source": "Values defined above can be used in the function, but will not be changed.\n\n### Exercise: Calculating Perimeter and Area  (1)\n\nComplete the following programs by writing functions to calculate: \n1. The area of a circle, given its radius ($a = \\pi r ^2$);"
    },
    {
      "metadata": {
        "trusted": true
      },
      "cell_type": "code",
      "source": "from math import pi\n\n## Instructions: uncomment the following lines and make the necessary edits\n\n# def circle_area(r):\n#     return ??\ndef circle_area (x) :\n    A = pi*(x**2)\n    return A\n\n\nprint(circle_area(2.0))",
      "execution_count": 26,
      "outputs": [
        {
          "output_type": "stream",
          "text": "12.566370614359172\n",
          "name": "stdout"
        }
      ]
    },
    {
      "metadata": {},
      "cell_type": "markdown",
      "source": "Result: `12.566370614359172`\n\nSolution: (double click)\n\n<!--\ndef circle_area(r):\n    return pi * r**2\n-->"
    },
    {
      "metadata": {},
      "cell_type": "markdown",
      "source": "### Example: No Parameters"
    },
    {
      "metadata": {
        "ExecuteTime": {
          "end_time": "2019-02-01T21:17:55.871688Z",
          "start_time": "2019-02-01T21:17:55.865725Z"
        },
        "trusted": true
      },
      "cell_type": "code",
      "source": "def the_answer():\n    return 42\n\n\nans = the_answer()\nprint(ans)",
      "execution_count": 27,
      "outputs": [
        {
          "output_type": "stream",
          "text": "42\n",
          "name": "stdout"
        }
      ]
    },
    {
      "metadata": {},
      "cell_type": "markdown",
      "source": "### Example: Multiple Parameters"
    },
    {
      "metadata": {
        "ExecuteTime": {
          "end_time": "2019-02-01T21:17:56.530081Z",
          "start_time": "2019-02-01T21:17:56.522082Z"
        },
        "trusted": true
      },
      "cell_type": "code",
      "source": "def quadratic_value(a, b, c, x):\n    \"Evaluate a quadratic polynomial a*x**2 + b*x + c\"\n    return a*x**2 + b*x + c\n\n\nhelp(quadratic_value)",
      "execution_count": 28,
      "outputs": [
        {
          "output_type": "stream",
          "text": "Help on function quadratic_value in module __main__:\n\nquadratic_value(a, b, c, x)\n    Evaluate a quadratic polynomial a*x**2 + b*x + c\n\n",
          "name": "stdout"
        }
      ]
    },
    {
      "metadata": {
        "ExecuteTime": {
          "end_time": "2019-02-01T21:17:56.530081Z",
          "start_time": "2019-02-01T21:17:56.522082Z"
        },
        "trusted": true
      },
      "cell_type": "code",
      "source": "print(quadratic_value(2.0, 3.0, 4.0, 0.5))",
      "execution_count": 29,
      "outputs": [
        {
          "output_type": "stream",
          "text": "6.0\n",
          "name": "stdout"
        }
      ]
    },
    {
      "metadata": {},
      "cell_type": "markdown",
      "source": "If a function requires several parameters, we need to separate the\nparameter names by commas. \n\n* The example also shows the use of a *documentation string*, which can be useful for the user.\n* The `help` function will  print  the documentation string, as well as the name of the function and the\nfunction parameters."
    },
    {
      "metadata": {},
      "cell_type": "markdown",
      "source": "### Local Variables\n\nAny variables that are assigned inside a function definition are called *local*\nvariables, and **only exist *inside* the function**.  \nThis means that any local variables that we use for intermediate calculations inside a function will not interfere\nwith the variables in the rest of the program."
    },
    {
      "metadata": {
        "ExecuteTime": {
          "end_time": "2019-02-01T21:17:57.169757Z",
          "start_time": "2019-02-01T21:17:57.162226Z"
        },
        "trusted": true
      },
      "cell_type": "code",
      "source": "import math\n\n\ndef ellipse(a, b):\n    ab = a*b\n    print(float(a*b))\n    return math.pi*ab\nprint(ellipse(2,4))",
      "execution_count": 13,
      "outputs": [
        {
          "output_type": "stream",
          "text": "8.0\n25.132741228718345\n",
          "name": "stdout"
        }
      ]
    },
    {
      "metadata": {
        "ExecuteTime": {
          "end_time": "2019-02-01T21:17:57.169757Z",
          "start_time": "2019-02-01T21:17:57.162226Z"
        },
        "trusted": true
      },
      "cell_type": "code",
      "source": "ab = 4  # unrelated to local variable ab in ellipse\nprint(ab)",
      "execution_count": 11,
      "outputs": [
        {
          "output_type": "stream",
          "text": "4\n",
          "name": "stdout"
        }
      ]
    },
    {
      "metadata": {
        "ExecuteTime": {
          "end_time": "2019-02-01T21:17:57.169757Z",
          "start_time": "2019-02-01T21:17:57.162226Z"
        },
        "trusted": true
      },
      "cell_type": "code",
      "source": "a = 2.0\nb = 3.0\n\nA = ellipse(a, b)\nprint(ellipse(2,3))",
      "execution_count": 14,
      "outputs": [
        {
          "output_type": "stream",
          "text": "6.0\n6.0\n18.84955592153876\n",
          "name": "stdout"
        }
      ]
    },
    {
      "metadata": {},
      "cell_type": "markdown",
      "source": "* Note: `ellipse()` *printed* the **internal** value of `ab` to the output, but ***returned*** te value of $\\pi a b$ to the variable `A`:"
    },
    {
      "metadata": {
        "ExecuteTime": {
          "end_time": "2019-02-01T21:17:57.169757Z",
          "start_time": "2019-02-01T21:17:57.162226Z"
        },
        "trusted": true
      },
      "cell_type": "code",
      "source": "print(A)\n\n#the value of ab defined outside the function remains unchanged!\nprint(ab)",
      "execution_count": null,
      "outputs": []
    },
    {
      "metadata": {},
      "cell_type": "markdown",
      "source": "### Multiple Return Values \n\nA function can return several values, by separating\nthe values by commas in the return statement. \n\nThe following example shows a function that returns the two roots of the quadratic equation\n$a x^2 + b x + c = 0$. "
    },
    {
      "metadata": {
        "ExecuteTime": {
          "end_time": "2019-02-01T21:17:58.127503Z",
          "start_time": "2019-02-01T21:17:58.121508Z"
        },
        "trusted": true
      },
      "cell_type": "code",
      "source": "import math\n\n\ndef quadratic(a, b, c):\n    \"return the roots of the quadratic equation a*x**2 + b*x + c = 0.\"\n    discriminant = b**2 - 4*a*c  # assumed to be positive\n    offset = math.sqrt(discriminant)\n    x1 = (-b + offset)/(2*a)\n    x2 = (-b - offset)/(2*a)\n    return x1, x2\n\n\nprint(quadratic(4.0, 0.0, -16.0))",
      "execution_count": 15,
      "outputs": [
        {
          "output_type": "stream",
          "text": "(2.0, -2.0)\n",
          "name": "stdout"
        }
      ]
    },
    {
      "metadata": {},
      "cell_type": "markdown",
      "source": "We can assign names to each of the return values using the following\nsyntax:"
    },
    {
      "metadata": {
        "ExecuteTime": {
          "end_time": "2019-02-01T21:17:58.495171Z",
          "start_time": "2019-02-01T21:17:58.490192Z"
        },
        "trusted": true
      },
      "cell_type": "code",
      "source": "root1, root2 = quadratic(4.0, 0.0, -16.0)\nprint(root1)\nprint(root2)",
      "execution_count": 16,
      "outputs": [
        {
          "output_type": "stream",
          "text": "2.0\n-2.0\n",
          "name": "stdout"
        }
      ]
    },
    {
      "metadata": {},
      "cell_type": "markdown",
      "source": "* Note that the names of the local variables (`x1` and `x2`) do not have\nto be the same as the variables we use to name the results of the\nfunction (`root1`, `root2`)."
    },
    {
      "metadata": {},
      "cell_type": "markdown",
      "source": "### Exercise: Calculating Perimeter and Area  (2)\n\n2. the perimeter and area of a square, given the side length ($P = 4L$, $A=L^2$);"
    },
    {
      "metadata": {
        "trusted": true
      },
      "cell_type": "code",
      "source": "## Instructions: uncomment the following lines and make the necessary edits\n\n# def ??:\n#     return ??, ??\n\ndef square_geometry(l) :\n    P = 4*l\n    A = l**2\n    print(P,A)\n    return P,A\n    \n\nprint(square_geometry(3))",
      "execution_count": 24,
      "outputs": [
        {
          "output_type": "stream",
          "text": "12 9\n(12, 9)\n",
          "name": "stdout"
        }
      ]
    },
    {
      "metadata": {},
      "cell_type": "markdown",
      "source": "Result: `(12, 9)`\n\n<!--\ndef square_geometry(s):\n    return 4*s, s**2\n-->"
    },
    {
      "metadata": {},
      "cell_type": "markdown",
      "source": "### Exercise: Calculating Perimeter and Area  (3)\n\n3. the perimeter and area of a rectangle, given the width and height ($P=2W + 2H$, $A=W\\times H$). "
    },
    {
      "metadata": {
        "trusted": true
      },
      "cell_type": "code",
      "source": "## Instructions: uncomment the following lines and make the necessary edits\n\n# ?? ??(??, ??):\n#     ??\ndef rectangle_geometry (W,H) :\n    P = (2*W)+(2*H)\n    A = W*H\n    print(P,A)\n    return (P,A)\nP,A = rectangle_geometry(3, 4)\n\nprint (P,A)",
      "execution_count": 28,
      "outputs": [
        {
          "output_type": "stream",
          "text": "14 12\n14 12\n",
          "name": "stdout"
        }
      ]
    },
    {
      "metadata": {},
      "cell_type": "markdown",
      "source": "### No Return Values\n\nIt is possible to define functions that do not return any values at all.\nThese are used to perform tasks such as printing, reading or writing files, accessing the internet, or plotting graphs."
    },
    {
      "metadata": {
        "ExecuteTime": {
          "end_time": "2019-02-01T21:17:59.629599Z",
          "start_time": "2019-02-01T21:17:59.625609Z"
        },
        "trusted": true
      },
      "cell_type": "code",
      "source": "def hello():\n    print(\"Hello World!\")\n\n\nhello()",
      "execution_count": 29,
      "outputs": [
        {
          "output_type": "stream",
          "text": "Hello World!\n",
          "name": "stdout"
        }
      ]
    },
    {
      "metadata": {},
      "cell_type": "markdown",
      "source": "The function does not contain a `return` statement and\ntherefore the function does not return a value, just a special value\n`None`."
    },
    {
      "metadata": {
        "ExecuteTime": {
          "end_time": "2019-02-01T21:18:00.032075Z",
          "start_time": "2019-02-01T21:18:00.027075Z"
        },
        "trusted": true
      },
      "cell_type": "code",
      "source": "greeting = hello()  # the action of printing will still be performed\n\nprint(greeting)",
      "execution_count": 30,
      "outputs": [
        {
          "output_type": "stream",
          "text": "Hello World!\nNone\n",
          "name": "stdout"
        }
      ]
    },
    {
      "metadata": {},
      "cell_type": "markdown",
      "source": "### Optional Arguments and Keyword Arguments \n\nSometimes arguments can be given default values using an equals sign. \n\nIf that argument is not entered when applying the function it takes the default value."
    },
    {
      "metadata": {
        "ExecuteTime": {
          "end_time": "2019-02-01T21:18:00.768454Z",
          "start_time": "2019-02-01T21:18:00.761489Z"
        },
        "trusted": true
      },
      "cell_type": "code",
      "source": "def raisepower(base, exponent=2):\n    return base**exponent\n\n\nprint(raisepower(10))\nprint(raisepower(10, 5))\nprint(raisepower(2, exponent=10))",
      "execution_count": 31,
      "outputs": [
        {
          "output_type": "stream",
          "text": "100\n100000\n1024\n",
          "name": "stdout"
        }
      ]
    },
    {
      "metadata": {},
      "cell_type": "markdown",
      "source": "* Keyword arguments must appear **after** compulsory arguments that do not have default values. \n* If there are more than 3 or 4 arguments it is a good idea to have them as optional keyword arguments with default values.\n\n### Functions as Values \n\nFunctions can also be used as input *values* in Python. "
    },
    {
      "metadata": {
        "ExecuteTime": {
          "end_time": "2019-02-01T21:18:01.39234Z",
          "start_time": "2019-02-01T21:18:01.385348Z"
        },
        "trusted": true
      },
      "cell_type": "code",
      "source": "from math import cos, sin, tan, pi\n\n\ndef f_zero_ten(InputFunction):\n    print(InputFunction(0.0), InputFunction(10.0), InputFunction(2*pi))\n\n\nf_zero_ten(cos)\nf_zero_ten(sin)\nf_zero_ten(tan)",
      "execution_count": 48,
      "outputs": [
        {
          "output_type": "stream",
          "text": "1.0 -0.8390715290764524 1.0\n0.0 -0.5440211108893698 -2.4492935982947064e-16\n0.0 0.6483608274590866 -2.4492935982947064e-16\n",
          "name": "stdout"
        }
      ]
    },
    {
      "metadata": {
        "ExecuteTime": {
          "end_time": "2019-02-01T21:18:01.39234Z",
          "start_time": "2019-02-01T21:18:01.385348Z"
        },
        "trusted": true
      },
      "cell_type": "code",
      "source": "def sq(x):\n    return x**2\n\n\nf_zero_ten(sq)",
      "execution_count": 43,
      "outputs": [
        {
          "output_type": "stream",
          "text": "0.0 100.0 39.47841760435743\n",
          "name": "stdout"
        }
      ]
    },
    {
      "metadata": {},
      "cell_type": "markdown",
      "source": "We can also use an assignment (**`=`**) statement to assign a name to a function."
    },
    {
      "metadata": {
        "ExecuteTime": {
          "end_time": "2019-02-01T21:18:03.358391Z",
          "start_time": "2019-02-01T21:18:03.353401Z"
        },
        "trusted": true
      },
      "cell_type": "code",
      "source": "import math\n\nf = math.cos\nprint(f(0.1))",
      "execution_count": 49,
      "outputs": [
        {
          "output_type": "stream",
          "text": "0.9950041652780258\n",
          "name": "stdout"
        }
      ]
    },
    {
      "metadata": {},
      "cell_type": "markdown",
      "source": "### Exercises\n\n* Define a function `two_times_x()` that takes a single argument `x` and *returns* the value $2x$."
    },
    {
      "metadata": {
        "trusted": true
      },
      "cell_type": "code",
      "source": "def two_times_x (x):\n    x = 2*x\n    return x\n\na1 = two_times_x(10)\nprint(a1)",
      "execution_count": 52,
      "outputs": [
        {
          "output_type": "stream",
          "text": "20\n",
          "name": "stdout"
        }
      ]
    },
    {
      "metadata": {},
      "cell_type": "markdown",
      "source": "Result: `20`\n\nSolution (click):  \n\n<!--\ndef two_times_x(x):\n    return 2*x\n-->"
    },
    {
      "metadata": {},
      "cell_type": "markdown",
      "source": "* Define a function `twice()` that takes a function `f` and a value `x` as two arguments, then returns $f(f(x))$"
    },
    {
      "metadata": {
        "ExecuteTime": {
          "end_time": "2019-02-01T21:18:03.650601Z",
          "start_time": "2019-02-01T21:18:03.641604Z"
        },
        "trusted": true
      },
      "cell_type": "code",
      "source": "def twice(f, x) :\n    return f(f(x))\n\na2 = twice(two_times_x, 10)\nprint(a2)",
      "execution_count": 54,
      "outputs": [
        {
          "output_type": "stream",
          "text": "40\n",
          "name": "stdout"
        }
      ]
    },
    {
      "metadata": {},
      "cell_type": "markdown",
      "source": "Result: `40`\n\nSolution (click):\n\n<!--\ndef twice(f, x):\n    return f(f(x))\n-->"
    },
    {
      "metadata": {},
      "cell_type": "markdown",
      "source": "* Define a function `thrice()` that takes a function `f` and a value `x` as two arguments, then returns $f(f(f(x)))$"
    },
    {
      "metadata": {
        "ExecuteTime": {
          "end_time": "2019-02-01T21:18:03.650601Z",
          "start_time": "2019-02-01T21:18:03.641604Z"
        },
        "trusted": true
      },
      "cell_type": "code",
      "source": "def thrice (f,x) :\n    return f(f(f(x)))\n\n\na3 = thrice(two_times_x, 10)\nprint(a3)",
      "execution_count": 55,
      "outputs": [
        {
          "output_type": "stream",
          "text": "80\n",
          "name": "stdout"
        }
      ]
    },
    {
      "metadata": {},
      "cell_type": "markdown",
      "source": "Result: `80`\n\nSolution:\n\n<!--\ndef thrice(f, x):\n    return f(f(f(x)))\n-->"
    },
    {
      "metadata": {},
      "cell_type": "markdown",
      "source": "## Summary"
    },
    {
      "metadata": {
        "ExecuteTime": {
          "end_time": "2019-02-01T21:18:20.178888Z",
          "start_time": "2019-02-01T21:18:20.17085Z"
        },
        "trusted": true
      },
      "cell_type": "code",
      "source": "# importing a module\nimport math\n\n# defining a function\ndef sumsquares(a, b):\n    return a**2 + b**2\n\nx = 3.0\ny = 2.0\nz = sumsquares(x, 2*y)  # calling a function\n\nh = math.sqrt(z)  # calling a built-in function\nprint(z, h)",
      "execution_count": null,
      "outputs": []
    },
    {
      "metadata": {},
      "cell_type": "markdown",
      "source": "## Pitfalls\n\n\nWatch out for the following sources of errors:\n\n-   Missing colon before indentation block.\n\n-   Wrong or inconsistent indentation. Use for 4 spaces (not tabs) per\n    indentation level."
    },
    {
      "metadata": {},
      "cell_type": "markdown",
      "source": "## Task 4: \n\n## Numerical Differentiation\n\n#### The tasks here lead on from each other. \n\n#### Submit only PART 2 (steps 1,2,3) in one SCRIPT.py file (ensure you tested it outside the notebook before submission)\n\n### Background\n\nDifferentiation of a function $f(x)$ about any point $x=a$ can be defined as follows:\n$$f'(a) = \\lim\\limits_{\\delta x \\rightarrow 0} \\frac{f(a + \\delta x) - f(a)}{\\delta x}$$\n\nTherefore a numerical approximation to the gradient at a point $a$ can be obtained by evaluating `f(a)`and `f(a+dx)` after\nsome small increment $\\delta x$ (which we name as `dx` for simplicity)\n\nThe code below uses this technique to differentiate the specific function for the area of a cube:  \n$A=6 L^2,$  \nwith side length $L=2$"
    },
    {
      "metadata": {
        "trusted": true
      },
      "cell_type": "code",
      "source": "L = 2\ndx = 0.1\n\nr1 = 6.0 * L**2.0\nr2 = 6.0 * (L+dx)**2.0\nf_x = (r2 - r1)/dx\n\nprint(f_x)",
      "execution_count": 56,
      "outputs": [
        {
          "output_type": "stream",
          "text": "24.60000000000001\n",
          "name": "stdout"
        }
      ]
    },
    {
      "metadata": {},
      "cell_type": "markdown",
      "source": "* Look back at `\"floating point precision\"` in week 1 to explain the last digit.\n\n\n## PART 1 (warm-up exercise, do not submit this)\n* Copy the code above and change change the value of $\\delta x$ to 0.01 to see how it affects the numerical approximation to the true value of 24."
    },
    {
      "metadata": {
        "trusted": true
      },
      "cell_type": "code",
      "source": "L = 2\ndx = 0.01\n\nr1 = 6.0 * L**2.0\nr2 = 6.0 * (L+dx)**2.0\nf_x = (r2 - r1)/dx\n\nprint(f_x)",
      "execution_count": 57,
      "outputs": [
        {
          "output_type": "stream",
          "text": "24.05999999999935\n",
          "name": "stdout"
        }
      ]
    },
    {
      "metadata": {},
      "cell_type": "markdown",
      "source": "* Define a Python function `deriv` that returns the derivative of $6L^2$ at any point `L` using a step size `dx` (use `(L, dx)` as two arguments to the function)."
    },
    {
      "metadata": {
        "trusted": true
      },
      "cell_type": "code",
      "source": "def deriv(L, dx) :\n    r1 = 6.0 * L**2.0\n    r2 = 6.0 * (L+dx)**2.0\n    f_x = (r2 - r1)/dx\n    return f_x\n\n\nprint(deriv(2, 0.0001))",
      "execution_count": 58,
      "outputs": [
        {
          "output_type": "stream",
          "text": "24.000600000064765\n",
          "name": "stdout"
        }
      ]
    },
    {
      "metadata": {},
      "cell_type": "markdown",
      "source": "Result: `24.000600000064765`"
    },
    {
      "metadata": {},
      "cell_type": "markdown",
      "source": "## PART 2 (for assessment): A function to take *any* function as an argument and differentiate it\n\nThe steps for doing the above procedure for any given function are as follows:\n1. Define a Python function `diff(f, a, dx)` to numerically approximate the derivative of *any* function `f(x)` at *any* point `x=a`, using the formula given in part 1;\n2. Define the new function you want to differentiate: `g(x)` which *returns* the value of the function `g` around `x`;\n3. Give the function name `g`, **without** parentheses `()`, and a new point `b` as arguments to `diff(g, b)`, to return the derivative of `g(x=b)`.  \n\n\n* **More detail is given below:**"
    },
    {
      "metadata": {},
      "cell_type": "markdown",
      "source": "### Step 1\nUsing the notes to guide you, write a function called `diff()` that takes three arguments: 1. another function *internally named as* `fi` (or whatever), 2. a point `a`, and 3. a small increment `dx`:\n* define a new function called differentiate with three arguments: `f`, `a` and `dx`.\n* the `diff()` function should evaluate `r1 = f(a)` and `r2 = f(a+dx)` and use these values in the formula for the gradient given in the Background and call it `f_x` (or whatever you like).\n* The `diff()` function should `return` the value of `f_x`\n\n### Step 2\nDefine a new function called `test_function(x)` that returns the result of $g(x) = x^3 - 2x^2 - 5$\n\n\n### Step 3\nGive the test function name as the first argument to your `diff()` function and the values `x=10` and `dx=1e-3` (or `0.001`) as the other two arguments."
    },
    {
      "metadata": {
        "trusted": true
      },
      "cell_type": "code",
      "source": "# here define a function called diff(internal_function_name, OTHER, ARGUMENTS):\n#    r1 = result of applying the internal function named fi at x: i.e. fi(x)\n#    and r2 should be fi evaluated at x+dx...\n#    result of the differentiation formula gives some value (call it f_x or something)\n#    then return f_x\n\n\ndef diff(fi, a, dx) : \n    r1 = fi(a)\n    r2 = fi(a+dx)\n    f_x = (r2 - r1)/dx\n    return f_x\n\n\n\n# leave this function as it is here\ndef test_function(x):\n    return (x**3) - (2*(x**2)) - 5\n\n\na=10\ndx=1e-3 \nanswer = diff(test_function,a,dx)\n#apply your diff function here with arguments of the test function name, the value of x and the step-size.\nprint(answer) \n",
      "execution_count": 2,
      "outputs": [
        {
          "output_type": "stream",
          "text": "260.02800099990964\n",
          "name": "stdout"
        }
      ]
    },
    {
      "metadata": {},
      "cell_type": "markdown",
      "source": "Result: `260.02800099990964`\n* precision may vary on a non-azure machine, don't worry about this if it's OK here.\n\n#### Once it's working put the code above into a python script, check in Spyder (etc.) it works as expected from scratch and submit."
    },
    {
      "metadata": {},
      "cell_type": "markdown",
      "source": "## Extra Practice Example & Building in Loops:\n\n### Iterating a Function \n\n* Define the function $\\displaystyle f(x) = \\frac{x+\\frac{2}{x}}{2}.$  "
    },
    {
      "metadata": {
        "trusted": true
      },
      "cell_type": "code",
      "source": "",
      "execution_count": null,
      "outputs": []
    },
    {
      "metadata": {},
      "cell_type": "markdown",
      "source": "* Calculate the values $f(1)$, $f(f(1))$, $f(f(f(1)))$, ... What do you observe?"
    },
    {
      "metadata": {
        "trusted": true
      },
      "cell_type": "code",
      "source": "",
      "execution_count": null,
      "outputs": []
    },
    {
      "metadata": {},
      "cell_type": "markdown",
      "source": "Click here for a hint...\n\n<!--\nResult should be: 1.0 1.5 1.4166666666666665 1.4142156862745097\nTry squaring $x_4$ to see what you get!\n-->"
    },
    {
      "metadata": {
        "trusted": true
      },
      "cell_type": "code",
      "source": "# this is equivalent:\nx0 = 1.0\nx1 = f(x0)\nx2 = f(x1)\nx3 = f(x2)\nprint(x0, x1, x2, x3)",
      "execution_count": null,
      "outputs": []
    },
    {
      "metadata": {},
      "cell_type": "markdown",
      "source": "* Wrap the function in a loop to apply it N times and experiment to see when it converges to the acccuracy of your output."
    },
    {
      "metadata": {
        "trusted": true
      },
      "cell_type": "code",
      "source": "#assign initial x\n#put a for loop header here\n    #call your function here with x as an argument and return the value back to x\n\n#print the last value of x here\n#print the value of x**2 and consider if it's what you expect and why?",
      "execution_count": null,
      "outputs": []
    },
    {
      "metadata": {},
      "cell_type": "markdown",
      "source": "Answer: Should converge at $N=5$\n\nClick for solution...\n\n<!--\nx=1\nfor i in range(5):\n    x = f(x)\n    \nprint(x)\nprint(x**2)\n-->"
    },
    {
      "metadata": {},
      "cell_type": "markdown",
      "source": "* Put the previous code in a function `iterate_func()` that takes three arguments: `f`, `x0` and `N` and returns the final iterated `x`\n\n(click for hint)\n\n<!--\ndef function_name(ARGUMENTS):\n    for loop goes here:\n        assign x to new value based on f(x)\n    return value of x here\n-->"
    },
    {
      "metadata": {
        "trusted": true
      },
      "cell_type": "code",
      "source": "? ?(?):\n    ? ? ? ?(?):\n        ? = ?\n    ? ?\n    \nans = iterate_func(f, 1, 5)\nprint(ans, ans**2)",
      "execution_count": null,
      "outputs": []
    },
    {
      "metadata": {},
      "cell_type": "markdown",
      "source": "Result: `1.414213562373095 1.9999999999999996`"
    },
    {
      "metadata": {},
      "cell_type": "markdown",
      "source": "* Finally make a new function `square_root` that takes one argument `(N)` and iterates for 10 recursions the formula $\\displaystyle x_{i+1} = \\frac{x_{i}+\\frac{N}{x_i}}{2}$ "
    },
    {
      "metadata": {
        "trusted": true
      },
      "cell_type": "code",
      "source": "#definition of a function \n#including a loop\n#applying a formula\n#returning a value\n\nprint([square_root(val) for val in [4,9,16,25]])",
      "execution_count": null,
      "outputs": []
    },
    {
      "metadata": {},
      "cell_type": "markdown",
      "source": "Result: `[2.0, 3.0, 4.0, 5.0]`\n\nSolution (click to reveal):\n\n<!--\ndef square_root(N):\n    x=1\n    for i in range(10):\n        x = (x + N/x) / 2\n    return x\n-->"
    }
  ],
  "metadata": {
    "hide_input": false,
    "kernelspec": {
      "name": "python36",
      "display_name": "Python 3.6",
      "language": "python"
    },
    "language_info": {
      "mimetype": "text/x-python",
      "nbconvert_exporter": "python",
      "name": "python",
      "pygments_lexer": "ipython3",
      "version": "3.6.6",
      "file_extension": ".py",
      "codemirror_mode": {
        "version": 3,
        "name": "ipython"
      }
    },
    "toc": {
      "base_numbering": 1,
      "nav_menu": {},
      "number_sections": true,
      "sideBar": true,
      "skip_h1_title": false,
      "title_cell": "Table of Contents",
      "title_sidebar": "Contents",
      "toc_cell": false,
      "toc_position": {},
      "toc_section_display": true,
      "toc_window_display": false
    }
  },
  "nbformat": 4,
  "nbformat_minor": 1
}