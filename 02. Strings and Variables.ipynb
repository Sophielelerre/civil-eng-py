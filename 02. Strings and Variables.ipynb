{
  "cells": [
    {
      "metadata": {},
      "cell_type": "markdown",
      "source": "# Strings and Variables\n\n## Strings\n\nAs we have seen in the introduction a string is a string of letters or numbers –\nenclosed in quotes – that is not interpreted mathematically.\n\nOperations such as `+` and `*` work differently on strings to on numerical data types."
    },
    {
      "metadata": {
        "ExecuteTime": {
          "end_time": "2019-02-01T20:54:21.119497Z",
          "start_time": "2019-02-01T20:54:21.114493Z"
        },
        "trusted": true
      },
      "cell_type": "code",
      "source": "print(\"Hello\" + \"World!\")",
      "execution_count": null,
      "outputs": []
    },
    {
      "metadata": {},
      "cell_type": "markdown",
      "source": "Here, we did not enter a space when adding (joining) the two strings. \n\nThere are various ways we can include a space, the last one including a spce character `\" \"`:"
    },
    {
      "metadata": {
        "ExecuteTime": {
          "end_time": "2019-02-01T20:54:22.177369Z",
          "start_time": "2019-02-01T20:54:22.171409Z"
        },
        "trusted": true
      },
      "cell_type": "code",
      "source": "print(\"Hello \" + \"World!\")\nprint(\"Hello\" + \" World!\")\nprint(\"Hello\" + \" \" + \"World!\")",
      "execution_count": null,
      "outputs": []
    },
    {
      "metadata": {},
      "cell_type": "markdown",
      "source": "\n\nThe following two examples are equivalent:"
    },
    {
      "metadata": {
        "ExecuteTime": {
          "end_time": "2019-02-01T20:54:23.038298Z",
          "start_time": "2019-02-01T20:54:23.033293Z"
        },
        "trusted": true
      },
      "cell_type": "code",
      "source": "print(\"Hello\" + \"Hello \" + \"Hello\")\nprint(\"Hello \" * 3)",
      "execution_count": 1,
      "outputs": [
        {
          "output_type": "stream",
          "text": "HelloHello Hello\nHello Hello Hello \n",
          "name": "stdout"
        }
      ]
    },
    {
      "metadata": {},
      "cell_type": "markdown",
      "source": "However, strings cannot be multiplied together so this will not work:"
    },
    {
      "metadata": {
        "ExecuteTime": {
          "end_time": "2019-02-01T20:54:24.246064Z",
          "start_time": "2019-02-01T20:54:24.137034Z"
        },
        "trusted": true
      },
      "cell_type": "code",
      "source": "print(\"Hello\" * \"World!\")",
      "execution_count": null,
      "outputs": []
    },
    {
      "metadata": {},
      "cell_type": "markdown",
      "source": "Other things that do not work include: string + int and string \\* float\n(try them to see what happens).\n\nStrings can be useful for displaying numerical in a more clear format.\nIf you want to use a numerical value in a text string it first needs\nconverting to string format using the built-in conversion function\n`str`:"
    },
    {
      "metadata": {
        "ExecuteTime": {
          "end_time": "2019-02-01T20:54:27.04244Z",
          "start_time": "2019-02-01T20:54:27.03744Z"
        },
        "trusted": true
      },
      "cell_type": "code",
      "source": "print(\"The answer is \" + str(6*7))",
      "execution_count": 2,
      "outputs": [
        {
          "output_type": "stream",
          "text": "The answer is 42\n",
          "name": "stdout"
        }
      ]
    },
    {
      "metadata": {},
      "cell_type": "markdown",
      "source": "The conversion function takes a numerical <span>*argument*</span> (in brackets) and converts it into a string of characters. \nIn the previous case the number 42 was converted into the plain text (*ascii*) characters 4\nand 2."
    },
    {
      "metadata": {},
      "cell_type": "markdown",
      "source": "### String Methods and Functions \n\nStrings have certain inbuilt functions called *\"methods\"* that can be used to change them.  \nStudy the ones below to see what they do."
    },
    {
      "metadata": {
        "trusted": true
      },
      "cell_type": "code",
      "source": "#Here we set a variable to store the string then use it instead of typing the whole thing\nquote = \"the QUICK BROWN Fox jumps over the LAZY Dog\"\n\nprint( quote )\nprint( quote.upper() )\nprint( quote.lower() )\nprint( quote.title() )\nprint( quote.capitalize() )",
      "execution_count": 3,
      "outputs": [
        {
          "output_type": "stream",
          "text": "the QUICK BROWN Fox jumps over the LAZY Dog\nTHE QUICK BROWN FOX JUMPS OVER THE LAZY DOG\nthe quick brown fox jumps over the lazy dog\nThe Quick Brown Fox Jumps Over The Lazy Dog\nThe quick brown fox jumps over the lazy dog\n",
          "name": "stdout"
        }
      ]
    },
    {
      "metadata": {},
      "cell_type": "markdown",
      "source": "Some functions take *arguments*, like the `STR.replace(FIND, REPLACE)` function, which replaces every instance of the string variable stored in FIND with that in REPLACE."
    },
    {
      "metadata": {
        "trusted": true
      },
      "cell_type": "code",
      "source": "print( quote.replace(\"the\", \"every\") )",
      "execution_count": 4,
      "outputs": [
        {
          "output_type": "stream",
          "text": "every QUICK BROWN Fox jumps over every LAZY Dog\n",
          "name": "stdout"
        }
      ]
    },
    {
      "metadata": {},
      "cell_type": "markdown",
      "source": "Also functions can be *chained* in sequence:"
    },
    {
      "metadata": {
        "trusted": true
      },
      "cell_type": "code",
      "source": "print( quote.replace(\"BROWN\", \"RED\").title().replace(\"Lazy\", \"Sleeping\") )",
      "execution_count": 5,
      "outputs": [
        {
          "output_type": "stream",
          "text": "The Quick Red Fox Jumps Over The Sleeping Dog\n",
          "name": "stdout"
        }
      ]
    },
    {
      "metadata": {},
      "cell_type": "markdown",
      "source": "## Variables\n\nOne of the things that makes a programming language like Python more\npowerful than a calculator is the fact that we can give a name to an\nintermediate result. \n\n### The *assignment* statement: =\n\nWe give a name to a value using an equals sign (`=`) called the *\"assignment statement\"*. \n\nThe name appears on the left hand side of the equals sign and the value (or calculation) appears\non the right hand side. \n\nAfter a variable is assigned a value, the value will replace the name anywhere it is used in the script below it. "
    },
    {
      "metadata": {
        "ExecuteTime": {
          "end_time": "2019-02-01T20:54:28.814602Z",
          "start_time": "2019-02-01T20:54:28.81061Z"
        },
        "trusted": true
      },
      "cell_type": "code",
      "source": "distance = 45.6  # assignment statement\ntime = 0.5  # another assignment statement\nprint(distance / time)  # the two names will be replace by their values",
      "execution_count": 6,
      "outputs": [
        {
          "output_type": "stream",
          "text": "91.2\n",
          "name": "stdout"
        }
      ]
    },
    {
      "metadata": {},
      "cell_type": "markdown",
      "source": "Names are  called *variables*. \n\n\nVariables can be useful\nto make a complicated expression more clear. \n\nThe calculation:"
    },
    {
      "metadata": {
        "ExecuteTime": {
          "end_time": "2019-02-01T20:54:30.282578Z",
          "start_time": "2019-02-01T20:54:30.267601Z"
        },
        "trusted": true
      },
      "cell_type": "code",
      "source": "((4*9.81*0.05)/(3*0.47) * (2650.0 - 1000.0)/1000.0)**0.5",
      "execution_count": null,
      "outputs": []
    },
    {
      "metadata": {},
      "cell_type": "markdown",
      "source": "can be made a lot clearer by giving names to some of the parameters\nand intermediate results and by adding comments. \n"
    },
    {
      "metadata": {
        "ExecuteTime": {
          "end_time": "2019-02-01T20:54:31.679328Z",
          "start_time": "2019-02-01T20:54:31.672329Z"
        },
        "trusted": true
      },
      "cell_type": "code",
      "source": "# Terminal velocity of spherical object\n\ng = 9.81  # acceleration due to gravity (m/s^2^)\nd = 0.05  # object diameter (m)\nC_d = 0.47  # drag coefficient (1)\nrho = 1000.0  # fluid density (kg/m^3^)\nrho_s = 2650.0  # object density (kg/m^3^)\ngeometry_factor = (4*g*d)/(3*C_d)\nbuoyancy_factor = (rho_s - rho)/rho\nV_t = (geometry_factor * buoyancy_factor)**0.5\n\nprint(V_t)",
      "execution_count": 7,
      "outputs": [
        {
          "output_type": "stream",
          "text": "1.5152417123378403\n",
          "name": "stdout"
        }
      ]
    },
    {
      "metadata": {},
      "cell_type": "markdown",
      "source": "This makes it also much\neasier to make changes or corrections.\n\n### Exercise:\n\nLet $a = 5$, $b = -1$ and $c=10$.  "
    },
    {
      "metadata": {
        "trusted": true
      },
      "cell_type": "code",
      "source": "a=5\nb=-1\nc=10",
      "execution_count": null,
      "outputs": []
    },
    {
      "metadata": {},
      "cell_type": "markdown",
      "source": "Evaluate $w$ where:\n\n* $w = 3 a - 5 b + 2 c$\n\nResult: `40`"
    },
    {
      "metadata": {
        "trusted": true
      },
      "cell_type": "code",
      "source": "a=5\nb=-1\nc=10\n\nw = 3*a-5*b+2*c #put your mathematical expression here\n\nprint(w)",
      "execution_count": 9,
      "outputs": [
        {
          "output_type": "stream",
          "text": "40\n",
          "name": "stdout"
        }
      ]
    },
    {
      "metadata": {},
      "cell_type": "markdown",
      "source": "* $\\displaystyle w = \\frac{5 a - 2 b}{4 c + 2 a}$\n\nResult: `0.54`"
    },
    {
      "metadata": {
        "trusted": true
      },
      "cell_type": "code",
      "source": "a=5\nb=-1\nc=10\n\nw=((5*a-2*b)/(4*c+2*a))*4\n\nprint(w)\n\nif w<1 :\n print(\"the number is small\")\nelse :\n print (\"other\")\n",
      "execution_count": 20,
      "outputs": [
        {
          "output_type": "stream",
          "text": "2.16\nother\n",
          "name": "stdout"
        }
      ]
    },
    {
      "metadata": {},
      "cell_type": "markdown",
      "source": "* $\\displaystyle w = \\sqrt{2 a - b}$\n\nResult: `3.3166247903554`"
    },
    {
      "metadata": {
        "trusted": true
      },
      "cell_type": "code",
      "source": "from math import sqrt\na=1\nb=a\n\nw=sqrt(2*a-b)\n\nprint(w)",
      "execution_count": 21,
      "outputs": [
        {
          "output_type": "stream",
          "text": "1.0\n",
          "name": "stdout"
        }
      ]
    },
    {
      "metadata": {},
      "cell_type": "markdown",
      "source": "\n\n---\n\n\nThe word *variable* refers to the fact that we can change what value a\nname refers to. \n\nThe same name can be reused for different values. "
    },
    {
      "metadata": {
        "ExecuteTime": {
          "end_time": "2019-02-01T20:54:34.670456Z",
          "start_time": "2019-02-01T20:54:34.664454Z"
        },
        "trusted": true
      },
      "cell_type": "code",
      "source": "a = 0.618\nprint(a)\na = 1.618\nprint(a)",
      "execution_count": 22,
      "outputs": [
        {
          "output_type": "stream",
          "text": "0.618\n1.618\n",
          "name": "stdout"
        }
      ]
    },
    {
      "metadata": {},
      "cell_type": "markdown",
      "source": "### IMPORTANT: Assignment is ***not*** equals!\n\nNote that the use of the equals sign can be confusing at first.  \nThe\nequals sign denotes *assignment* and not an equation in the mathematical\nsense.  \n`A = B` takes the rigt hand side (B) and *assigns* it to the variable (A) on the left.\n\n#### Notes:\n\n* The following example will generate an error message since this not legal Python code."
    },
    {
      "metadata": {
        "ExecuteTime": {
          "end_time": "2019-02-01T20:54:38.207558Z",
          "start_time": "2019-02-01T20:54:38.20155Z"
        },
        "trusted": true
      },
      "cell_type": "code",
      "source": "2*3 = a  ",
      "execution_count": null,
      "outputs": []
    },
    {
      "metadata": {},
      "cell_type": "markdown",
      "source": "* If one variable is assigned to another, it takes its *current value* but they do not remain equal forever:"
    },
    {
      "metadata": {
        "ExecuteTime": {
          "end_time": "2019-02-01T20:54:57.983498Z",
          "start_time": "2019-02-01T20:54:57.978493Z"
        },
        "trusted": true
      },
      "cell_type": "code",
      "source": "a = 1  # set a to 1\nb = a  # b takes the current value of a\na = 2  # change the value of a\nprint(a, b)  # note that b does not change",
      "execution_count": 23,
      "outputs": [
        {
          "output_type": "stream",
          "text": "2 1\n",
          "name": "stdout"
        }
      ]
    },
    {
      "metadata": {},
      "cell_type": "markdown",
      "source": "* The right hand side (**RHS**) is evaluated *before* assignment to the varible on the left (**LHS**), so the following examples are possible in Python:"
    },
    {
      "metadata": {
        "trusted": true
      },
      "cell_type": "code",
      "source": "a = 1\nprint(a)",
      "execution_count": null,
      "outputs": []
    },
    {
      "metadata": {
        "trusted": true
      },
      "cell_type": "code",
      "source": "# take the value of a and add 1 to it, assign this back to `a`\na = a + 1\nprint(a)",
      "execution_count": null,
      "outputs": []
    },
    {
      "metadata": {
        "trusted": true
      },
      "cell_type": "code",
      "source": "# multiply the current value of `a` by 2 and overwrite `a`\na = 2*a\nprint(a)",
      "execution_count": null,
      "outputs": []
    },
    {
      "metadata": {
        "ExecuteTime": {
          "end_time": "2019-02-01T20:54:58.576732Z",
          "start_time": "2019-02-01T20:54:58.570742Z"
        },
        "trusted": true
      },
      "cell_type": "code",
      "source": "# replace the value of the variable `a` with its old value squared\na = a**2\nprint(a)",
      "execution_count": null,
      "outputs": []
    },
    {
      "metadata": {},
      "cell_type": "markdown",
      "source": "**Note:** \nin each case the **old value of `a`** is taken and used for the calculation, **before** *replacing* it using the assignment statement (=). "
    },
    {
      "metadata": {},
      "cell_type": "markdown",
      "source": "#### Example: Swapping two values \n\nSuppose we have assigned the names `varA` and `varB` to two different\nvalues.  \nTo swap the values, we have to\nuse a temporary name to refer to one of the values."
    },
    {
      "metadata": {
        "ExecuteTime": {
          "end_time": "2019-02-01T20:55:01.279425Z",
          "start_time": "2019-02-01T20:55:01.273418Z"
        },
        "trusted": true
      },
      "cell_type": "code",
      "source": "varA = 7\nvarB = -99\n\nprint(varA, varB)\n\ntmp = varA\nvarA = varB\nvarB = tmp\n\nprint(varA, varB)",
      "execution_count": 24,
      "outputs": [
        {
          "output_type": "stream",
          "text": "7 -99\n-99 7\n",
          "name": "stdout"
        }
      ]
    },
    {
      "metadata": {},
      "cell_type": "markdown",
      "source": "### Allowed Variable Names\n\n* A valid variable name consists of *letters* (A,a,B,b,...), *digits* (1,2,3,...) and *underscores* ( _ )  \nbut\n** *cannot* start with a digit**. \n* **Spaces are *not* allowed** in variable names. \n* You should not use an underscore at the start of a variable name, since\nthis has a special meaning in Python.\n* Python is *case-sensitive*, which means that upper and lower case letters\nare distinct. "
    },
    {
      "metadata": {
        "ExecuteTime": {
          "end_time": "2019-02-01T20:56:40.606529Z",
          "start_time": "2019-02-01T20:56:40.600539Z"
        },
        "trusted": true
      },
      "cell_type": "code",
      "source": "a = 5\nb2 = a + a\nquite_a_long_variable_name = 0.1\nA = 50.0\nouterRadius = 5.7\nprint(a, b2, quite_a_long_variable_name, A, outerRadius)",
      "execution_count": null,
      "outputs": []
    },
    {
      "metadata": {},
      "cell_type": "markdown",
      "source": "#### Example: Quadratic Formula\n\nThe following program finds the solutions of the quadratic equation\n$a x^2 + b x + c$ using the quadratic formula:\n$$x = \\frac{-b\\pm\\sqrt{b^2-4ac}}{2a},$$ where $b^2-4ac$ is known as the\n<span>*discriminant*</span>.  \nWe assume in this example that there are\ntwo solutions."
    },
    {
      "metadata": {
        "ExecuteTime": {
          "end_time": "2019-02-01T20:56:41.518323Z",
          "start_time": "2019-02-01T20:56:41.512334Z"
        },
        "trusted": true
      },
      "cell_type": "code",
      "source": "# coefficients of the quadratic a*x**2 + b*x + c\n\na = 1.0\nb = 0\nc = 4  # quadratic formula for the equation a*x**2 + b*x + c = 0\n\ndisc = b**2 - 4*a*c  # assumed to be positive\nprint(disc)\n\nx1 = (-b + disc**0.5)/(2*a)\nx2 = (-b - disc**0.5)/(2*a)\n\nprint(x1, x2)",
      "execution_count": 27,
      "outputs": [
        {
          "output_type": "stream",
          "text": "-16.0\n(1.2246467991473532e-16+2j) (-1.2246467991473532e-16-2j)\n",
          "name": "stdout"
        }
      ]
    },
    {
      "metadata": {},
      "cell_type": "markdown",
      "source": "#### Exercise \n\n* Run the quadratic formula program with different coefficients.  \n    - Use some\nequations for which you know what the results should be (e.g.,\n$x^2 - 4 = 0$).  \n* Find out what happens when the discriminant is negative."
    },
    {
      "metadata": {},
      "cell_type": "markdown",
      "source": "### Using Built-in Constants\n\nImportant constants like $\\pi$ and $e$ can be accessed by loading the `math` library using\n`import`.  \nThe *imaginary number* $i=\\sqrt{-1}$ (called $j$ by electrical engineers) is accessed using `1j`."
    },
    {
      "metadata": {
        "ExecuteTime": {
          "end_time": "2019-02-01T20:56:45.647725Z",
          "start_time": "2019-02-01T20:56:45.641736Z"
        },
        "trusted": true
      },
      "cell_type": "code",
      "source": "from math import pi, e\n\nprint(pi, e, e**(1j*pi) + 1)",
      "execution_count": 28,
      "outputs": [
        {
          "output_type": "stream",
          "text": "3.141592653589793 2.718281828459045 1.2246467991473532e-16j\n",
          "name": "stdout"
        }
      ]
    },
    {
      "metadata": {},
      "cell_type": "markdown",
      "source": "* Note that the last result is $1.2\\times10^{-16}i = 0.00000000000000012i\\approx 0$, due to floating-point precision (see appendix of Section 1)."
    },
    {
      "metadata": {},
      "cell_type": "markdown",
      "source": "## Strings as Variables \n\nStrings can also be assigned to variable names, and it important to not\nconfuse the two. For example:"
    },
    {
      "metadata": {
        "ExecuteTime": {
          "end_time": "2019-02-01T20:56:48.813564Z",
          "start_time": "2019-02-01T20:56:48.809565Z"
        },
        "trusted": true
      },
      "cell_type": "code",
      "source": "word1 = \"Hello World!\"\nprint(\"word1\")\nprint(word1)",
      "execution_count": 29,
      "outputs": [
        {
          "output_type": "stream",
          "text": "word1\nHello World!\n",
          "name": "stdout"
        }
      ]
    },
    {
      "metadata": {},
      "cell_type": "markdown",
      "source": "Notice that in the first instance the string `word1` that was enclosed\nin quotes was \nprint ed and in the second the *string value* `hello`\nassigned to the variable named `word1` was \nprinted."
    },
    {
      "metadata": {},
      "cell_type": "markdown",
      "source": "### Formatting Numbers in Strings\n\nInteger or floating point\nnumbers can also also be combined with strings in other ways. They can be\ndirectly interspersed with text strings by separating them with commas\nwithout conversion:"
    },
    {
      "metadata": {
        "ExecuteTime": {
          "end_time": "2019-02-01T20:56:50.68637Z",
          "start_time": "2019-02-01T20:56:50.681371Z"
        },
        "trusted": true
      },
      "cell_type": "code",
      "source": "print(\"The answer is\", 40+2, \"but not\", \"40\"+\"2\")",
      "execution_count": 30,
      "outputs": [
        {
          "output_type": "stream",
          "text": "The answer is 42 but not 402\n",
          "name": "stdout"
        }
      ]
    },
    {
      "metadata": {},
      "cell_type": "markdown",
      "source": "Notice that spaces were automatically added in this case.  \nThere are\nother ways of formatting objects including numbers in text output (we will see more later).  \nOne is the including special syntax such as `%d` for integers and `%f` for\nfloating point numbers (there are others).  \nThe value to replace it with\nfollows the string, preceded by a percent symbol."
    },
    {
      "metadata": {
        "ExecuteTime": {
          "end_time": "2019-02-01T20:56:55.246577Z",
          "start_time": "2019-02-01T20:56:55.241577Z"
        },
        "trusted": true
      },
      "cell_type": "code",
      "source": "import math\npi = math.pi\nprint(\"Pi is %d as an integer\" % pi)\nprint(\"Pi is %f, approximately\" % pi)\nprint(\"Pi is %.3f to 3 decimal places\" % pi)",
      "execution_count": 31,
      "outputs": [
        {
          "output_type": "stream",
          "text": "Pi is 3 as an integer\nPi is 3.141593, approximately\nPi is 3.142 to 3 decimal places\n",
          "name": "stdout"
        }
      ]
    },
    {
      "metadata": {},
      "cell_type": "markdown",
      "source": "* In the third case `%.3f` is used to display the value to three\ndecimal places. This can be very useful for displaying the results of\ncalculations neatly. We will see another method for including numbers in\nstrings later in the unit."
    },
    {
      "metadata": {},
      "cell_type": "markdown",
      "source": "Another method is the `format()` function (study how each of the arguments works and make notes on your observations):"
    },
    {
      "metadata": {
        "trusted": true
      },
      "cell_type": "code",
      "source": "mysentence = \"This is how to put {} and {} in the sentence {}.\".format(\"this\", \"that\", \"here\")\n\nprint(mysentence)",
      "execution_count": 32,
      "outputs": [
        {
          "output_type": "stream",
          "text": "This is how to put this and that in the sentence here.\n",
          "name": "stdout"
        }
      ]
    },
    {
      "metadata": {
        "trusted": true
      },
      "cell_type": "code",
      "source": "mysentence2 = \"This is how to place {2} then {0} and finish with {1}.\".format(\"zero\", \"one\", \"two\")\n\nprint(mysentence2)",
      "execution_count": 33,
      "outputs": [
        {
          "output_type": "stream",
          "text": "This is how to place two then zero and finish with one.\n",
          "name": "stdout"
        }
      ]
    },
    {
      "metadata": {
        "trusted": true
      },
      "cell_type": "code",
      "source": "this = \"An integer: {:.0f}, two dp: {:.2f}, full precision: {}, \".format(pi, pi, pi)\nprint(this)",
      "execution_count": 34,
      "outputs": [
        {
          "output_type": "stream",
          "text": "An integer: 3, two dp: 3.14, full precision: 3.141592653589793, \n",
          "name": "stdout"
        }
      ]
    },
    {
      "metadata": {
        "trusted": true
      },
      "cell_type": "code",
      "source": "final = \"Base of natural logs: {1:.3f}, pi = {0:.5f}\".format(pi, e)\n\nprint(final)",
      "execution_count": 40,
      "outputs": [
        {
          "output_type": "stream",
          "text": "Base of natural logs: 2.718, pi = 3.14159\n",
          "name": "stdout"
        }
      ]
    },
    {
      "metadata": {},
      "cell_type": "markdown",
      "source": "From Python 3.6 onwards a new method: *\"f-strings\"* were introduced to Python:  "
    },
    {
      "metadata": {
        "trusted": true
      },
      "cell_type": "code",
      "source": "from math import pi, e\na=42\n\nformatted_string = f\"The answer is {a}, the number pi is {pi:.3f} and the base of natural logarithms is {e:.3}.\"\n\nprint(formatted_string)",
      "execution_count": 42,
      "outputs": [
        {
          "output_type": "error",
          "ename": "SyntaxError",
          "evalue": "invalid syntax (<ipython-input-42-4e2149cbac9f>, line 4)",
          "traceback": [
            "\u001b[0;36m  File \u001b[0;32m\"<ipython-input-42-4e2149cbac9f>\"\u001b[0;36m, line \u001b[0;32m4\u001b[0m\n\u001b[0;31m    formatted_string = f\"The answer is {a}, the number pi is {pi:.3f} and the base of natural logarithms is {e:.3}.\"\u001b[0m\n\u001b[0m                                                                                                                   ^\u001b[0m\n\u001b[0;31mSyntaxError\u001b[0m\u001b[0;31m:\u001b[0m invalid syntax\n"
          ]
        }
      ]
    },
    {
      "metadata": {},
      "cell_type": "markdown",
      "source": "This makes formatting numbers in text much easier than before.\nStrings can also be formatted into strings, as the following multi-line string (using three quote marks on eather side) shows:"
    },
    {
      "metadata": {
        "trusted": true
      },
      "cell_type": "code",
      "source": "a=42\npalindrome = \"do geese see god\"\n\nmultiline = f\"\"\"Hello I am a multiline string,\nas you can see my lines can be broken!\n\nI can also include the contants of variables like {a}.\n\nNot only that, other strings!:\n\nThis: {palindrome}\n\nThat: {palindrome.upper()}\n\nSomething else: {(palindrome+\" \")*3}\n\n\"\"\"\n\nprint(multiline)",
      "execution_count": 43,
      "outputs": [
        {
          "output_type": "error",
          "ename": "SyntaxError",
          "evalue": "invalid syntax (<ipython-input-43-5977d09a07ef>, line 17)",
          "traceback": [
            "\u001b[0;36m  File \u001b[0;32m\"<ipython-input-43-5977d09a07ef>\"\u001b[0;36m, line \u001b[0;32m17\u001b[0m\n\u001b[0;31m    \"\"\"\u001b[0m\n\u001b[0m       \n^\u001b[0m\n\u001b[0;31mSyntaxError\u001b[0m\u001b[0;31m:\u001b[0m invalid syntax\n"
          ]
        }
      ]
    },
    {
      "metadata": {},
      "cell_type": "markdown",
      "source": "## Summary "
    },
    {
      "metadata": {
        "ExecuteTime": {
          "end_time": "2019-02-01T21:00:38.020484Z",
          "start_time": "2019-02-01T21:00:38.0105Z"
        },
        "trusted": true
      },
      "cell_type": "code",
      "source": "# a comment is ignored\n\nimport math  # importing a module\n\n-999  # an integer\n0.0999  # a floating point number\n1.987e-6  # scientific/engineering notation\nprint(88)  # printing a value\nprint(1, 4, 9)  # printing multiple values\nprint(10**(2*3) - 1)  # integer arithmetic\nprint(7/2)   # integer arithmetic does what you would expect in real life\nprint(7.0/2.0)  # floating point arithmetic\nprint(math.pi*100)  # built-in constant\nnum1 = 44  # assignment statement\nnum2 = 2*33\nprint(num1 + num2)",
      "execution_count": null,
      "outputs": []
    },
    {
      "metadata": {},
      "cell_type": "markdown",
      "source": "-   Operations: `+`, `-`, `*`, `/`, `**`, `%`\n\n-   Functions: `type`, `int`, `float`, `round`\n\n-   Constants: `math.pi`, `math.e`\n\n## Pitfalls \n\n-   The operation `*` denotes multiplication and cannot be omitted. It\n    can be helpful to read out a formula.   \n    E.g., $5 (4 + 2)$ reads as five *times* four plus two.\n    \n-   In other programming languages or in in previous Python versions (e.g. Python 2), \n    the symbol `/` denotes *integer* division.\n    In them, we have `7/2 => 3`, but `7.0/2 => 3.5` and `7/2.0 => 3.5`.\n    But this is *not* the case in Python 3.\n\n-   Variable names are case-sensitive.\n\n-   Do not confuse assignment statements and mathematical equations."
    },
    {
      "metadata": {},
      "cell_type": "markdown",
      "source": "# Task 2 (2%)\n\n1. Use the [Daylight Factor sheet](http://moodle.bath.ac.uk/pluginfile.php/731549/mod_resource/content/3/Daylight_Factors.pdf)  and the following instructions to complete the code below.\n\n2. Enter the parameters $\\theta=57^\\circ$ and $\\tau=0.64$ (calling them ``theta`` and ``tau``), given the values in the **Example**. \n\n3.  Calculate the room reflectance $\\rho$ as an intermediate step using the formula:\n$\\rho=\\dfrac{A_c\\times r_c + A_s \\times r_s + A_g \\times r_g + A_f \\times r_f}{A}$ using the values for the dimensions of the walls, glazing area and reflectances ($r$) given in the sheet.\n\n4. Using **Equation 16.3**: \n$A_g = \\dfrac{\\overline{D}A(1-\\rho^2)}{\\theta\\ \\tau}$, calculate a new glazing area needed to achieve a daylight factor of 5%.\n\n    * Your correct code should display the answer given below the example:\n    * **Re-run from fresh (e.g. using Spyder) to check your script before submitting**\n    \nSome partially filled out code is below to get you started. Copy it into a new notebook and save/check/submit when done!\n\nthe output should be the following **and nothing else!**:\n\n`Old Daylight Factor = 2.221119979796034\nGlazing Area for 5% DF = 15.53 m^2`"
    },
    {
      "metadata": {
        "trusted": true
      },
      "cell_type": "code",
      "source": "# reflectivities are defined here:\nr_c = 0.7\nr_s = 0.4\nr_g = 0.1\nr_f = 0.2\n\n# uncomment the two lines below and fill in their values\n# theta=\n# tau=\n\n# Assign values to variables for dimensions (in m):\nwidth = 4\nlength = 8\nheight = 3\n\n# Calculate areas (first two done for you):\nA_g = 6.9\nA_s = 2*width*height + 2*length*height - A_g\n# A_c = #calculate area of ceiling here\n# A_f = #calculate area of floor here\n# A = #calculate total area here\n\n# fill in the formula for the area weighted average reflectance below\n#rho = ()/()\n\n# Don't alter this next two lines! Old daylight factor is\nD = A_g*(theta*tau)/(A*(1-rho**2))\nprint(\"Old Daylight Factor =\", D)\n\n# this sets the required Daylight factor to 5 (percent)\nD = 5\n\n\nA_g =  # write the formula for the new glazing area here\n\n\n#leave this next line alone! \nprint(f\"Glazing Area for 5% DF = {A_g:.2f} m^2\")",
      "execution_count": null,
      "outputs": []
    },
    {
      "metadata": {},
      "cell_type": "markdown",
      "source": "## Extra:\n\n**NB: Don't submit this next bit!**\n\n* Can you spot what is wrong with the above calculation?\n* Try commenting out the line ``A_g = 6.9`` and re-running the code-block\n* Run it again a few times in sequence.\n    * Why do you think this is happening?\n    \nWe will explore this further later on."
    },
    {
      "metadata": {},
      "cell_type": "markdown",
      "source": "## Extra Practice Example:\n\n### Projectile Motion \n\nThe height of a ball thrown upwards with a velocity $v_0$ is given by\n$$y = y_0 + v_0 t - \\frac{1}{2} g t^2,$$ where time $t=0$ when the ball\nis released. The ball is released at height $y_0$. The initial velocity\nis $v_0$. Position, velocity and acceleration are all measured as\npositive upwards. Take $y_0 = 1.5$, $v_0 = 12.8$ and $g = 9.81$.\n\n-   Use Python to calculate the height of the ball at $t = 2$.\n\n-   Use Python to calculate the time $t$ for which $y = 5$.  \n(Hint: rearrange and use the quadratic formula: $x=\\dfrac{-b\\pm\\sqrt{b^2-4ac}}{2a}$)"
    },
    {
      "metadata": {
        "trusted": true
      },
      "cell_type": "code",
      "source": "",
      "execution_count": null,
      "outputs": []
    },
    {
      "metadata": {},
      "cell_type": "markdown",
      "source": "Hidden Solution (double click to see it!)\n\n<!--MODEL CODE:\ng = 9.81   # acceleration due to gravity\ny_0 = 1.5   # initial height\nv_0 = 12.8   # initial velocity\n\nt = 2\nprint(y_0 + v_0 * t - 0.5 * g * t**2)\n\ny_1 = 5\n\n# equation for t\n# y_1 = y_0 + v_0 * t - 0.5 * g * t**2\n# equation rearranged\n# 0.5 * g * t**2 - v_0 * t + y_1 - y_0 = 0\n\na = 0.5 * g\nb = -v_0\nc = y_1 - y_0\ndisc = b**2 - 4*a*c\nt_1 = (-b - disc**0.5)/(2*a)\nt_2 = (-b + disc**0.5)/(2*a)\nprint(t_1, t_2)\n-->"
    }
  ],
  "metadata": {
    "hide_input": false,
    "kernelspec": {
      "name": "python3",
      "display_name": "Python 3",
      "language": "python"
    },
    "language_info": {
      "mimetype": "text/x-python",
      "nbconvert_exporter": "python",
      "name": "python",
      "file_extension": ".py",
      "version": "3.5.4",
      "pygments_lexer": "ipython3",
      "codemirror_mode": {
        "version": 3,
        "name": "ipython"
      }
    },
    "toc": {
      "base_numbering": 1,
      "nav_menu": {},
      "number_sections": true,
      "sideBar": true,
      "skip_h1_title": false,
      "title_cell": "Table of Contents",
      "title_sidebar": "Contents",
      "toc_cell": false,
      "toc_position": {},
      "toc_section_display": true,
      "toc_window_display": false
    }
  },
  "nbformat": 4,
  "nbformat_minor": 1
}