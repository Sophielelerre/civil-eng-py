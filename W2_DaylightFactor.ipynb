{
  "cells": [
    {
      "metadata": {
        "trusted": true
      },
      "cell_type": "code",
      "source": "#DaylightFactor Excercise week2\n\n# reflectivities are defined here:\nr_c = 0.7\nr_s = 0.4\nr_g = 0.1\nr_f = 0.2\n\ntheta=57\ntau=0.64\n\n# Assign values to variables for dimensions (in m):\nwidth = 4\nlength = 8\nheight = 3\n\n# Calculate areas:\nA_g = 6.9\nA_s = 2*width*height + 2*length*height - A_g\nA_c = width*length\nA_f = width*length\nA = 2*(width*length + width*height + length*height)\n\n#Area weighted average reflectance below\nrho = (A_g*r_g + A_s*r_s + A_c*r_c + A_f*r_f)/(A)\n\n# Don't alter this next two lines! Old daylight factor is\nD = A_g*(theta*tau)/(A*(1-rho**2))\nprint(\"Old Daylight Factor =\", D)\n\n# this sets the required Daylight factor to 5 (percent)\nD = 5\nA_g=(A*D*(1-(rho**2)))/(theta*tau)\n\nprint(\"Glazing Area for 5% DF =\", \"%.2f\" % A_g, \"m^2\")\n\n\n",
      "execution_count": 5,
      "outputs": [
        {
          "output_type": "stream",
          "text": "Old Daylight Factor = 2.221119979796034\nGlazing Area for 5% DF = 15.53 m^2\n",
          "name": "stdout"
        }
      ]
    },
    {
      "metadata": {
        "trusted": true
      },
      "cell_type": "code",
      "source": "",
      "execution_count": null,
      "outputs": []
    },
    {
      "metadata": {
        "trusted": true
      },
      "cell_type": "code",
      "source": "",
      "execution_count": null,
      "outputs": []
    }
  ],
  "metadata": {
    "kernelspec": {
      "name": "python3",
      "display_name": "Python 3",
      "language": "python"
    },
    "language_info": {
      "mimetype": "text/x-python",
      "nbconvert_exporter": "python",
      "name": "python",
      "pygments_lexer": "ipython3",
      "version": "3.5.4",
      "file_extension": ".py",
      "codemirror_mode": {
        "version": 3,
        "name": "ipython"
      }
    }
  },
  "nbformat": 4,
  "nbformat_minor": 1
}